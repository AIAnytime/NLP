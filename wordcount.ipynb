{
  "nbformat": 4,
  "nbformat_minor": 0,
  "metadata": {
    "colab": {
      "name": "wordcount.ipynb",
      "provenance": []
    },
    "kernelspec": {
      "name": "python3",
      "display_name": "Python 3"
    },
    "language_info": {
      "name": "python"
    }
  },
  "cells": [
    {
      "cell_type": "code",
      "metadata": {
        "colab": {
          "base_uri": "https://localhost:8080/"
        },
        "id": "A2ffaxmhfiR7",
        "outputId": "a4d402c7-c57a-4e81-db77-0ab200950f6f"
      },
      "source": [
        "import pandas as pd\n",
        "pd.set_option(\"display.max_colwidth\", -1)"
      ],
      "execution_count": null,
      "outputs": [
        {
          "output_type": "stream",
          "text": [
            "/usr/local/lib/python3.7/dist-packages/ipykernel_launcher.py:2: FutureWarning: Passing a negative integer is deprecated in version 1.0 and will not be supported in future version. Instead, use None to not limit the column width.\n",
            "  \n"
          ],
          "name": "stderr"
        }
      ]
    },
    {
      "cell_type": "code",
      "metadata": {
        "id": "n-S_OUNtf2CQ"
      },
      "source": [
        "data = pd.read_csv(\"drive/My Drive/NLP/out.csv\")"
      ],
      "execution_count": null,
      "outputs": []
    },
    {
      "cell_type": "code",
      "metadata": {
        "colab": {
          "base_uri": "https://localhost:8080/",
          "height": 578
        },
        "id": "yyfN1uf7f8aQ",
        "outputId": "7d810122-92dd-406d-9b54-0063c1fce8eb"
      },
      "source": [
        "data.head(5)"
      ],
      "execution_count": null,
      "outputs": [
        {
          "output_type": "execute_result",
          "data": {
            "text/html": [
              "<div>\n",
              "<style scoped>\n",
              "    .dataframe tbody tr th:only-of-type {\n",
              "        vertical-align: middle;\n",
              "    }\n",
              "\n",
              "    .dataframe tbody tr th {\n",
              "        vertical-align: top;\n",
              "    }\n",
              "\n",
              "    .dataframe thead th {\n",
              "        text-align: right;\n",
              "    }\n",
              "</style>\n",
              "<table border=\"1\" class=\"dataframe\">\n",
              "  <thead>\n",
              "    <tr style=\"text-align: right;\">\n",
              "      <th></th>\n",
              "      <th>id</th>\n",
              "      <th>idea</th>\n",
              "      <th>problem</th>\n",
              "      <th>businessValue</th>\n",
              "    </tr>\n",
              "  </thead>\n",
              "  <tbody>\n",
              "    <tr>\n",
              "      <th>0</th>\n",
              "      <td>1fbd0f13-7268-4d80-a26e-807da98c6958</td>\n",
              "      <td>Mobile Banking for Visually Impaired (having voice navigations in different languages)- An app or website to help visually impaired people with their account navigations and making it easy for those to help with online transactions.</td>\n",
              "      <td>This idea is to help the visually impaired people with the online banking and in their preferred languages. It will help individual to access their mobile banking without anyone's help and they can manage their transactions with their voice. We can add voice recognition feature for security purpose</td>\n",
              "      <td>It can help with the ease of banking for each individual and reduces the physical gathering in Banks. People can be less reliable on physical banking which can reduces the manpower.</td>\n",
              "    </tr>\n",
              "    <tr>\n",
              "      <th>1</th>\n",
              "      <td>4f95e0a9-ca9b-4c14-99e1-a460ca1df46d</td>\n",
              "      <td>Combining Kanban system and Scrum for Software Development. Kanban is a way of managing the flow of work to define, manage and improve the services that deliver the information function. It aims to help you visualize your work, increase efficiency, and progress continuously.\\r\\n\\r\\nIf we use Kanban process and Scrum together it would be better for managing Software Development in a more organized way when compared with only using scrum</td>\n",
              "      <td>Currently most of the software development projects are using only Scrum. Because of which even though business can track the project progress in efficient manner but if we combine Kanban and Scrum then it would be a lot better for tracking the project in much more visualized manner because of combining Scrum and Kanban</td>\n",
              "      <td>It helps in effective Software Development tracking when compared to using only Scrum. This is applicable for Business, Developers and Testers too.</td>\n",
              "    </tr>\n",
              "    <tr>\n",
              "      <th>2</th>\n",
              "      <td>dfe17b38-ee38-49d8-8fb5-3add2486f1f8</td>\n",
              "      <td>1. Going forward If any new forms are getting added in US Tax forms ,it will be better if we can create new program instead of editing in RTAXPG60 ,so that we can avoid bulk  commarea data population and Load in same program.\\r\\n\\r\\n2. In future Instead of utilising all commarea data for RTAXPG60 program ,we could have utilised form based data.\\r\\nEx- If we use 8966 form ,we can redefine commarea based on 8966-Form fields. \\r\\n      If we use CRS form,we can redefine commarea based on CRS-Form details.</td>\n",
              "      <td>In our system for US Taxation year we use single program(RTAXPG60) for year 2020 in which all logic for custody system G-Plus,Trust,Milvus,Bancs along with all forms,So the Commarea which we pass from RTAXPGM1 is almost full (31K+ and Maximum we can pass 32K) ,So in future if new changes has to be added with more than 500 field length  than it's not going to be accommodated.</td>\n",
              "      <td>It  will help us to improve the online screen function and able to accommodate more changes.</td>\n",
              "    </tr>\n",
              "    <tr>\n",
              "      <th>3</th>\n",
              "      <td>0b3b943b-4953-4d61-a89d-c3ad4f7532fe</td>\n",
              "      <td>Test Data health check and test data update for Automation Test cases: \\r\\nMost of the test cases automated has to deal with updating Test Data all the time before running the automation test cases. To avoid this if we introduce a test data health check step which will check if test data is correct and available in system and if not the self heal by updating the right data this way efficiency can be improved and we can move toward complete Automation solutioning</td>\n",
              "      <td>Even though test cases are automated most of the time it is test data dependent. And if every time fresh test data to be identified for executing automation test cases of exisiting test data not being available in system causes rework in all the aspect and even though test cases are automated manual intervention is required creating gap in end to end solutioning. By adding health check and self healing scripting before executing automation suite will help achieving completing automation and remove time in identifying gaps in Test data and also re work time due to test data failure will be removed.</td>\n",
              "      <td>Intelligent Automation and Productivity Enhancement</td>\n",
              "    </tr>\n",
              "    <tr>\n",
              "      <th>4</th>\n",
              "      <td>e900e410-538f-472e-90c0-ca576e9bff03</td>\n",
              "      <td>Site Reliability Engineering</td>\n",
              "      <td>Team is yet to adapt complete SRE pipeline &amp; benefits</td>\n",
              "      <td>SRE process improves the stability of the system and saves production support cost.</td>\n",
              "    </tr>\n",
              "  </tbody>\n",
              "</table>\n",
              "</div>"
            ],
            "text/plain": [
              "                                     id  ...                                                                                                                                                                          businessValue\n",
              "0  1fbd0f13-7268-4d80-a26e-807da98c6958  ...  It can help with the ease of banking for each individual and reduces the physical gathering in Banks. People can be less reliable on physical banking which can reduces the manpower.\n",
              "1  4f95e0a9-ca9b-4c14-99e1-a460ca1df46d  ...  It helps in effective Software Development tracking when compared to using only Scrum. This is applicable for Business, Developers and Testers too.                                  \n",
              "2  dfe17b38-ee38-49d8-8fb5-3add2486f1f8  ...  It  will help us to improve the online screen function and able to accommodate more changes.                                                                                         \n",
              "3  0b3b943b-4953-4d61-a89d-c3ad4f7532fe  ...  Intelligent Automation and Productivity Enhancement                                                                                                                                  \n",
              "4  e900e410-538f-472e-90c0-ca576e9bff03  ...  SRE process improves the stability of the system and saves production support cost.                                                                                                  \n",
              "\n",
              "[5 rows x 4 columns]"
            ]
          },
          "metadata": {
            "tags": []
          },
          "execution_count": 4
        }
      ]
    },
    {
      "cell_type": "code",
      "metadata": {
        "colab": {
          "base_uri": "https://localhost:8080/"
        },
        "id": "eQBwtKQggLtJ",
        "outputId": "2675294d-5f3b-4b2e-d163-c7b1890b2c8f"
      },
      "source": [
        "!pip install neattext"
      ],
      "execution_count": null,
      "outputs": [
        {
          "output_type": "stream",
          "text": [
            "Collecting neattext\n",
            "  Downloading neattext-0.1.0-py3-none-any.whl (112 kB)\n",
            "\u001b[?25l\r\u001b[K     |███                             | 10 kB 22.2 MB/s eta 0:00:01\r\u001b[K     |█████▉                          | 20 kB 21.7 MB/s eta 0:00:01\r\u001b[K     |████████▊                       | 30 kB 21.3 MB/s eta 0:00:01\r\u001b[K     |███████████▊                    | 40 kB 20.3 MB/s eta 0:00:01\r\u001b[K     |██████████████▋                 | 51 kB 9.2 MB/s eta 0:00:01\r\u001b[K     |█████████████████▌              | 61 kB 7.9 MB/s eta 0:00:01\r\u001b[K     |████████████████████▌           | 71 kB 8.9 MB/s eta 0:00:01\r\u001b[K     |███████████████████████▍        | 81 kB 9.4 MB/s eta 0:00:01\r\u001b[K     |██████████████████████████▎     | 92 kB 10.2 MB/s eta 0:00:01\r\u001b[K     |█████████████████████████████▎  | 102 kB 8.6 MB/s eta 0:00:01\r\u001b[K     |████████████████████████████████| 112 kB 8.6 MB/s \n",
            "\u001b[?25hInstalling collected packages: neattext\n",
            "Successfully installed neattext-0.1.0\n"
          ],
          "name": "stdout"
        }
      ]
    },
    {
      "cell_type": "code",
      "metadata": {
        "id": "wDgv9x5JgRnY"
      },
      "source": [
        "from collections import Counter\n",
        "import neattext.functions as nfx"
      ],
      "execution_count": null,
      "outputs": []
    },
    {
      "cell_type": "code",
      "metadata": {
        "id": "WuYWeeAEgXhw"
      },
      "source": [
        "str1 = \"Test Data health check and test data update for Automation Test cases: \\r\\nMost of the test cases automated has to deal with updating Test Data all the time before running the automation test cases. To avoid this if we introduce a test data health check step which will check if test data is correct and available in system and if not the self heal by updating the right data this way efficiency can be improved and we can move toward complete Automation solutioning\""
      ],
      "execution_count": null,
      "outputs": []
    },
    {
      "cell_type": "code",
      "metadata": {
        "id": "chC4684vmqx1"
      },
      "source": [
        "str1 = str1.lower()"
      ],
      "execution_count": null,
      "outputs": []
    },
    {
      "cell_type": "code",
      "metadata": {
        "colab": {
          "base_uri": "https://localhost:8080/"
        },
        "id": "FpdX7jOCgtd_",
        "outputId": "02327737-1ad5-49ca-bc76-be82158144b0"
      },
      "source": [
        "Counter(str1.split())"
      ],
      "execution_count": null,
      "outputs": [
        {
          "output_type": "execute_result",
          "data": {
            "text/plain": [
              "Counter({'a': 1,\n",
              "         'all': 1,\n",
              "         'and': 4,\n",
              "         'automated': 1,\n",
              "         'automation': 3,\n",
              "         'available': 1,\n",
              "         'avoid': 1,\n",
              "         'be': 1,\n",
              "         'before': 1,\n",
              "         'by': 1,\n",
              "         'can': 2,\n",
              "         'cases': 1,\n",
              "         'cases.': 1,\n",
              "         'cases:': 1,\n",
              "         'check': 3,\n",
              "         'complete': 1,\n",
              "         'correct': 1,\n",
              "         'data': 6,\n",
              "         'deal': 1,\n",
              "         'efficiency': 1,\n",
              "         'for': 1,\n",
              "         'has': 1,\n",
              "         'heal': 1,\n",
              "         'health': 2,\n",
              "         'if': 3,\n",
              "         'improved': 1,\n",
              "         'in': 1,\n",
              "         'introduce': 1,\n",
              "         'is': 1,\n",
              "         'most': 1,\n",
              "         'move': 1,\n",
              "         'not': 1,\n",
              "         'of': 1,\n",
              "         'right': 1,\n",
              "         'running': 1,\n",
              "         'self': 1,\n",
              "         'solutioning': 1,\n",
              "         'step': 1,\n",
              "         'system': 1,\n",
              "         'test': 8,\n",
              "         'the': 5,\n",
              "         'this': 2,\n",
              "         'time': 1,\n",
              "         'to': 2,\n",
              "         'toward': 1,\n",
              "         'update': 1,\n",
              "         'updating': 2,\n",
              "         'way': 1,\n",
              "         'we': 2,\n",
              "         'which': 1,\n",
              "         'will': 1,\n",
              "         'with': 1})"
            ]
          },
          "metadata": {
            "tags": []
          },
          "execution_count": 27
        }
      ]
    },
    {
      "cell_type": "code",
      "metadata": {
        "id": "vYNMCscdgz81"
      },
      "source": [
        "final_str1 = nfx.remove_stopwords(str1)"
      ],
      "execution_count": null,
      "outputs": []
    },
    {
      "cell_type": "code",
      "metadata": {
        "colab": {
          "base_uri": "https://localhost:8080/"
        },
        "id": "oTfwDdsohep-",
        "outputId": "cf8a2a11-a3c0-491e-c77b-7c0d7844c4e5"
      },
      "source": [
        "Counter(final_str1.split())"
      ],
      "execution_count": null,
      "outputs": [
        {
          "output_type": "execute_result",
          "data": {
            "text/plain": [
              "Counter({'automated': 1,\n",
              "         'automation': 3,\n",
              "         'available': 1,\n",
              "         'avoid': 1,\n",
              "         'cases': 1,\n",
              "         'cases.': 1,\n",
              "         'cases:': 1,\n",
              "         'check': 3,\n",
              "         'complete': 1,\n",
              "         'correct': 1,\n",
              "         'data': 6,\n",
              "         'deal': 1,\n",
              "         'efficiency': 1,\n",
              "         'heal': 1,\n",
              "         'health': 2,\n",
              "         'improved': 1,\n",
              "         'introduce': 1,\n",
              "         'right': 1,\n",
              "         'running': 1,\n",
              "         'self': 1,\n",
              "         'solutioning': 1,\n",
              "         'step': 1,\n",
              "         'system': 1,\n",
              "         'test': 8,\n",
              "         'time': 1,\n",
              "         'update': 1,\n",
              "         'updating': 2,\n",
              "         'way': 1})"
            ]
          },
          "metadata": {
            "tags": []
          },
          "execution_count": 29
        }
      ]
    },
    {
      "cell_type": "code",
      "metadata": {
        "colab": {
          "base_uri": "https://localhost:8080/"
        },
        "id": "JEjSuNRThpek",
        "outputId": "c8bfc35b-259b-4c61-d383-ad32b5a0d03e"
      },
      "source": [
        "Counter(final_str1.split()).most_common(4)"
      ],
      "execution_count": null,
      "outputs": [
        {
          "output_type": "execute_result",
          "data": {
            "text/plain": [
              "[('test', 8), ('data', 6), ('check', 3), ('automation', 3)]"
            ]
          },
          "metadata": {
            "tags": []
          },
          "execution_count": 30
        }
      ]
    },
    {
      "cell_type": "code",
      "metadata": {
        "id": "juWmtPrliGcV"
      },
      "source": [
        "def remove_shits(txt, num=5):\n",
        "  txt1 = nfx.remove_puncts(txt)\n",
        "  no_stop_words = nfx.remove_stopwords(txt1)\n",
        "  most_common_tokens = dict(Counter(no_stop_words.split()).most_common(num))\n",
        "\n",
        "  return most_common_tokens"
      ],
      "execution_count": null,
      "outputs": []
    },
    {
      "cell_type": "code",
      "metadata": {
        "id": "4Ah3oAGIjzHv"
      },
      "source": [
        "first_func_output = remove_shits(str1)"
      ],
      "execution_count": null,
      "outputs": []
    },
    {
      "cell_type": "code",
      "metadata": {
        "colab": {
          "base_uri": "https://localhost:8080/"
        },
        "id": "9npKVAkFmP4q",
        "outputId": "7d95dc4f-ccaf-4dae-9e98-164b85c17f1d"
      },
      "source": [
        "first_func_output"
      ],
      "execution_count": null,
      "outputs": [
        {
          "output_type": "execute_result",
          "data": {
            "text/plain": [
              "{'automation': 3, 'check': 3, 'data': 6, 'health': 2, 'test': 8}"
            ]
          },
          "metadata": {
            "tags": []
          },
          "execution_count": 33
        }
      ]
    },
    {
      "cell_type": "code",
      "metadata": {
        "id": "kZ2EdyiimUza"
      },
      "source": [
        "import matplotlib.pyplot as plt\n"
      ],
      "execution_count": null,
      "outputs": []
    },
    {
      "cell_type": "code",
      "metadata": {
        "id": "m-l-SJckj5el"
      },
      "source": [
        "def plot_most_common_words(txt_data):\n",
        "  plt.figure(figsize=(8,6))\n",
        "  plt.title(\"Most common words used in this Idea\", fontsize=20, color='#2C163D')\n",
        "  barlist = plt.bar(txt_data.keys(), txt_data.values())\n",
        "  barlist[0].set_color('#6794DD')\n",
        "  barlist[1].set_color('#D76665')\n",
        "  barlist[2].set_color('#F6B32A')\n",
        "  barlist[3].set_color('#7D64D7')\n",
        "  barlist[4].set_color('#80E91B')\n",
        "  plt.yticks(fontsize=20)\n",
        "  plt.xticks(rotation=45, fontsize=20)\n",
        "  plt.show()"
      ],
      "execution_count": null,
      "outputs": []
    },
    {
      "cell_type": "code",
      "metadata": {
        "colab": {
          "base_uri": "https://localhost:8080/",
          "height": 480
        },
        "id": "EV8CkzdFmG4v",
        "outputId": "939ddb80-bcfc-4310-dcea-535bcad316cc"
      },
      "source": [
        "plot_most_common_words(first_func_output)"
      ],
      "execution_count": null,
      "outputs": [
        {
          "output_type": "display_data",
          "data": {
            "image/png": "[encoded data removed]",
            "text/plain": [
              "<Figure size 576x432 with 1 Axes>"
            ]
          },
          "metadata": {
            "tags": [],
            "needs_background": "light"
          }
        }
      ]
    },
    {
      "cell_type": "markdown",
      "metadata": {
        "id": "ev1pwWhdvWjC"
      },
      "source": [
        "# for near future"
      ]
    },
    {
      "cell_type": "code",
      "metadata": {
        "id": "6Yqs2KcDsRSA"
      },
      "source": [
        "from textblob import TextBlob"
      ],
      "execution_count": null,
      "outputs": []
    },
    {
      "cell_type": "code",
      "metadata": {
        "colab": {
          "base_uri": "https://localhost:8080/",
          "height": 69
        },
        "id": "fr2e5DOvtxb4",
        "outputId": "e2a38967-a471-48ee-ecd1-dbfe56b98314"
      },
      "source": [
        "str1"
      ],
      "execution_count": null,
      "outputs": [
        {
          "output_type": "execute_result",
          "data": {
            "application/vnd.google.colaboratory.intrinsic+json": {
              "type": "string"
            },
            "text/plain": [
              "'test data health check and test data update for automation test cases: \\r\\nmost of the test cases automated has to deal with updating test data all the time before running the automation test cases. to avoid this if we introduce a test data health check step which will check if test data is correct and available in system and if not the self heal by updating the right data this way efficiency can be improved and we can move toward complete automation solutioning'"
            ]
          },
          "metadata": {
            "tags": []
          },
          "execution_count": 85
        }
      ]
    },
    {
      "cell_type": "code",
      "metadata": {
        "id": "6fWGiFNPt23r"
      },
      "source": [
        "str1 = ' '.join(dict.fromkeys(str1.split()))"
      ],
      "execution_count": null,
      "outputs": []
    },
    {
      "cell_type": "code",
      "metadata": {
        "colab": {
          "base_uri": "https://localhost:8080/",
          "height": 52
        },
        "id": "UFaVZ1uKuBAz",
        "outputId": "5f4f0215-2a0e-4a3d-8a0e-32401a336e2b"
      },
      "source": [
        "str1"
      ],
      "execution_count": null,
      "outputs": [
        {
          "output_type": "execute_result",
          "data": {
            "application/vnd.google.colaboratory.intrinsic+json": {
              "type": "string"
            },
            "text/plain": [
              "'test data health check and update for automation cases: most of the cases automated has to deal with updating all time before running cases. avoid this if we introduce a step which will is correct available in system not self heal by right way efficiency can be improved move toward complete solutioning'"
            ]
          },
          "metadata": {
            "tags": []
          },
          "execution_count": 88
        }
      ]
    },
    {
      "cell_type": "code",
      "metadata": {
        "id": "6-dSAYpfsm-C"
      },
      "source": [
        "blob = TextBlob(str1)"
      ],
      "execution_count": null,
      "outputs": []
    },
    {
      "cell_type": "code",
      "metadata": {
        "colab": {
          "base_uri": "https://localhost:8080/"
        },
        "id": "67IrVU-yttky",
        "outputId": "fab55354-049a-4262-9555-e14697861601"
      },
      "source": [
        "blob"
      ],
      "execution_count": null,
      "outputs": [
        {
          "output_type": "execute_result",
          "data": {
            "text/plain": [
              "TextBlob(\"test data health check and update for automation cases: most of the cases automated has to deal with updating all time before running cases. avoid this if we introduce a step which will is correct available in system not self heal by right way efficiency can be improved move toward complete solutioning\")"
            ]
          },
          "metadata": {
            "tags": []
          },
          "execution_count": 90
        }
      ]
    },
    {
      "cell_type": "code",
      "metadata": {
        "colab": {
          "base_uri": "https://localhost:8080/"
        },
        "id": "bqPCv7q-szCF",
        "outputId": "c1d0f5ef-4669-4d89-92d7-6469eb867ad5"
      },
      "source": [
        "blob.words"
      ],
      "execution_count": null,
      "outputs": [
        {
          "output_type": "execute_result",
          "data": {
            "text/plain": [
              "WordList(['test', 'data', 'health', 'check', 'and', 'update', 'for', 'automation', 'cases', 'most', 'of', 'the', 'cases', 'automated', 'has', 'to', 'deal', 'with', 'updating', 'all', 'time', 'before', 'running', 'cases', 'avoid', 'this', 'if', 'we', 'introduce', 'a', 'step', 'which', 'will', 'is', 'correct', 'available', 'in', 'system', 'not', 'self', 'heal', 'by', 'right', 'way', 'efficiency', 'can', 'be', 'improved', 'move', 'toward', 'complete', 'solutioning'])"
            ]
          },
          "metadata": {
            "tags": []
          },
          "execution_count": 91
        }
      ]
    },
    {
      "cell_type": "code",
      "metadata": {
        "colab": {
          "base_uri": "https://localhost:8080/"
        },
        "id": "RRmDlUUPtoqj",
        "outputId": "192ac762-d8db-4932-c714-bb7d1a572cf7"
      },
      "source": [
        "blob.pos_tags"
      ],
      "execution_count": null,
      "outputs": [
        {
          "output_type": "execute_result",
          "data": {
            "text/plain": [
              "[('test', 'NN'),\n",
              " ('data', 'NNS'),\n",
              " ('health', 'NN'),\n",
              " ('check', 'NN'),\n",
              " ('and', 'CC'),\n",
              " ('update', 'NN'),\n",
              " ('for', 'IN'),\n",
              " ('automation', 'NN'),\n",
              " ('cases', 'NNS'),\n",
              " ('most', 'JJS'),\n",
              " ('of', 'IN'),\n",
              " ('the', 'DT'),\n",
              " ('cases', 'NNS'),\n",
              " ('automated', 'VBD'),\n",
              " ('has', 'VBZ'),\n",
              " ('to', 'TO'),\n",
              " ('deal', 'VB'),\n",
              " ('with', 'IN'),\n",
              " ('updating', 'VBG'),\n",
              " ('all', 'DT'),\n",
              " ('time', 'NN'),\n",
              " ('before', 'IN'),\n",
              " ('running', 'VBG'),\n",
              " ('cases', 'NNS'),\n",
              " ('avoid', 'VB'),\n",
              " ('this', 'DT'),\n",
              " ('if', 'IN'),\n",
              " ('we', 'PRP'),\n",
              " ('introduce', 'VBP'),\n",
              " ('a', 'DT'),\n",
              " ('step', 'NN'),\n",
              " ('which', 'WDT'),\n",
              " ('will', 'MD'),\n",
              " ('is', 'VBZ'),\n",
              " ('correct', 'JJ'),\n",
              " ('available', 'JJ'),\n",
              " ('in', 'IN'),\n",
              " ('system', 'NN'),\n",
              " ('not', 'RB'),\n",
              " ('self', 'JJ'),\n",
              " ('heal', 'NN'),\n",
              " ('by', 'IN'),\n",
              " ('right', 'JJ'),\n",
              " ('way', 'NN'),\n",
              " ('efficiency', 'NN'),\n",
              " ('can', 'MD'),\n",
              " ('be', 'VB'),\n",
              " ('improved', 'VBN'),\n",
              " ('move', 'VB'),\n",
              " ('toward', 'IN'),\n",
              " ('complete', 'JJ'),\n",
              " ('solutioning', 'NN')]"
            ]
          },
          "metadata": {
            "tags": []
          },
          "execution_count": 92
        }
      ]
    },
    {
      "cell_type": "code",
      "metadata": {
        "id": "gfvJW6ksuROa"
      },
      "source": [
        "blob."
      ],
      "execution_count": null,
      "outputs": []
    }
  ]
}