{
  "nbformat": 4,
  "nbformat_minor": 0,
  "metadata": {
    "colab": {
      "name": "Summarization.ipynb",
      "provenance": []
    },
    "kernelspec": {
      "name": "python3",
      "display_name": "Python 3"
    },
    "language_info": {
      "name": "python"
    },
    "widgets": {
      "application/vnd.jupyter.widget-state+json": {
        "fd5ab9b1237146b1bd4bbc98b142d502": {
          "model_module": "@jupyter-widgets/controls",
          "model_name": "HBoxModel",
          "state": {
            "_view_name": "HBoxView",
            "_dom_classes": [],
            "_model_name": "HBoxModel",
            "_view_module": "@jupyter-widgets/controls",
            "_model_module_version": "1.5.0",
            "_view_count": null,
            "_view_module_version": "1.5.0",
            "box_style": "",
            "layout": "IPY_MODEL_de841fd0ffbe4572b090cb4113834a3f",
            "_model_module": "@jupyter-widgets/controls",
            "children": [
              "IPY_MODEL_a0caec9097704021992bf31b0e75a261",
              "IPY_MODEL_ad84a2c4e75241deb241a21c5db9ba5b"
            ]
          }
        },
        "de841fd0ffbe4572b090cb4113834a3f": {
          "model_module": "@jupyter-widgets/base",
          "model_name": "LayoutModel",
          "state": {
            "_view_name": "LayoutView",
            "grid_template_rows": null,
            "right": null,
            "justify_content": null,
            "_view_module": "@jupyter-widgets/base",
            "overflow": null,
            "_model_module_version": "1.2.0",
            "_view_count": null,
            "flex_flow": null,
            "width": null,
            "min_width": null,
            "border": null,
            "align_items": null,
            "bottom": null,
            "_model_module": "@jupyter-widgets/base",
            "top": null,
            "grid_column": null,
            "overflow_y": null,
            "overflow_x": null,
            "grid_auto_flow": null,
            "grid_area": null,
            "grid_template_columns": null,
            "flex": null,
            "_model_name": "LayoutModel",
            "justify_items": null,
            "grid_row": null,
            "max_height": null,
            "align_content": null,
            "visibility": null,
            "align_self": null,
            "height": null,
            "min_height": null,
            "padding": null,
            "grid_auto_rows": null,
            "grid_gap": null,
            "max_width": null,
            "order": null,
            "_view_module_version": "1.2.0",
            "grid_template_areas": null,
            "object_position": null,
            "object_fit": null,
            "grid_auto_columns": null,
            "margin": null,
            "display": null,
            "left": null
          }
        },
        "a0caec9097704021992bf31b0e75a261": {
          "model_module": "@jupyter-widgets/controls",
          "model_name": "FloatProgressModel",
          "state": {
            "_view_name": "ProgressView",
            "style": "IPY_MODEL_5351a94c1e6849fb97617608970b4183",
            "_dom_classes": [],
            "description": "Downloading: 100%",
            "_model_name": "FloatProgressModel",
            "bar_style": "success",
            "max": 1802,
            "_view_module": "@jupyter-widgets/controls",
            "_model_module_version": "1.5.0",
            "value": 1802,
            "_view_count": null,
            "_view_module_version": "1.5.0",
            "orientation": "horizontal",
            "min": 0,
            "description_tooltip": null,
            "_model_module": "@jupyter-widgets/controls",
            "layout": "IPY_MODEL_7f4509f972d74e7b8e0b5c88a43158ad"
          }
        },
        "ad84a2c4e75241deb241a21c5db9ba5b": {
          "model_module": "@jupyter-widgets/controls",
          "model_name": "HTMLModel",
          "state": {
            "_view_name": "HTMLView",
            "style": "IPY_MODEL_7c81b224404147aeb9fdfff2c9c0d5cc",
            "_dom_classes": [],
            "description": "",
            "_model_name": "HTMLModel",
            "placeholder": "​",
            "_view_module": "@jupyter-widgets/controls",
            "_model_module_version": "1.5.0",
            "value": " 1.80k/1.80k [00:32&lt;00:00, 55.1B/s]",
            "_view_count": null,
            "_view_module_version": "1.5.0",
            "description_tooltip": null,
            "_model_module": "@jupyter-widgets/controls",
            "layout": "IPY_MODEL_78ef9a5e448747edb4e932838a9ef3d5"
          }
        },
        "5351a94c1e6849fb97617608970b4183": {
          "model_module": "@jupyter-widgets/controls",
          "model_name": "ProgressStyleModel",
          "state": {
            "_view_name": "StyleView",
            "_model_name": "ProgressStyleModel",
            "description_width": "initial",
            "_view_module": "@jupyter-widgets/base",
            "_model_module_version": "1.5.0",
            "_view_count": null,
            "_view_module_version": "1.2.0",
            "bar_color": null,
            "_model_module": "@jupyter-widgets/controls"
          }
        },
        "7f4509f972d74e7b8e0b5c88a43158ad": {
          "model_module": "@jupyter-widgets/base",
          "model_name": "LayoutModel",
          "state": {
            "_view_name": "LayoutView",
            "grid_template_rows": null,
            "right": null,
            "justify_content": null,
            "_view_module": "@jupyter-widgets/base",
            "overflow": null,
            "_model_module_version": "1.2.0",
            "_view_count": null,
            "flex_flow": null,
            "width": null,
            "min_width": null,
            "border": null,
            "align_items": null,
            "bottom": null,
            "_model_module": "@jupyter-widgets/base",
            "top": null,
            "grid_column": null,
            "overflow_y": null,
            "overflow_x": null,
            "grid_auto_flow": null,
            "grid_area": null,
            "grid_template_columns": null,
            "flex": null,
            "_model_name": "LayoutModel",
            "justify_items": null,
            "grid_row": null,
            "max_height": null,
            "align_content": null,
            "visibility": null,
            "align_self": null,
            "height": null,
            "min_height": null,
            "padding": null,
            "grid_auto_rows": null,
            "grid_gap": null,
            "max_width": null,
            "order": null,
            "_view_module_version": "1.2.0",
            "grid_template_areas": null,
            "object_position": null,
            "object_fit": null,
            "grid_auto_columns": null,
            "margin": null,
            "display": null,
            "left": null
          }
        },
        "7c81b224404147aeb9fdfff2c9c0d5cc": {
          "model_module": "@jupyter-widgets/controls",
          "model_name": "DescriptionStyleModel",
          "state": {
            "_view_name": "StyleView",
            "_model_name": "DescriptionStyleModel",
            "description_width": "",
            "_view_module": "@jupyter-widgets/base",
            "_model_module_version": "1.5.0",
            "_view_count": null,
            "_view_module_version": "1.2.0",
            "_model_module": "@jupyter-widgets/controls"
          }
        },
        "78ef9a5e448747edb4e932838a9ef3d5": {
          "model_module": "@jupyter-widgets/base",
          "model_name": "LayoutModel",
          "state": {
            "_view_name": "LayoutView",
            "grid_template_rows": null,
            "right": null,
            "justify_content": null,
            "_view_module": "@jupyter-widgets/base",
            "overflow": null,
            "_model_module_version": "1.2.0",
            "_view_count": null,
            "flex_flow": null,
            "width": null,
            "min_width": null,
            "border": null,
            "align_items": null,
            "bottom": null,
            "_model_module": "@jupyter-widgets/base",
            "top": null,
            "grid_column": null,
            "overflow_y": null,
            "overflow_x": null,
            "grid_auto_flow": null,
            "grid_area": null,
            "grid_template_columns": null,
            "flex": null,
            "_model_name": "LayoutModel",
            "justify_items": null,
            "grid_row": null,
            "max_height": null,
            "align_content": null,
            "visibility": null,
            "align_self": null,
            "height": null,
            "min_height": null,
            "padding": null,
            "grid_auto_rows": null,
            "grid_gap": null,
            "max_width": null,
            "order": null,
            "_view_module_version": "1.2.0",
            "grid_template_areas": null,
            "object_position": null,
            "object_fit": null,
            "grid_auto_columns": null,
            "margin": null,
            "display": null,
            "left": null
          }
        },
        "faf7dfb3459f4c82955e17fb3c99056a": {
          "model_module": "@jupyter-widgets/controls",
          "model_name": "HBoxModel",
          "state": {
            "_view_name": "HBoxView",
            "_dom_classes": [],
            "_model_name": "HBoxModel",
            "_view_module": "@jupyter-widgets/controls",
            "_model_module_version": "1.5.0",
            "_view_count": null,
            "_view_module_version": "1.5.0",
            "box_style": "",
            "layout": "IPY_MODEL_ba13a6585e7a44b2ac7be8847a804adb",
            "_model_module": "@jupyter-widgets/controls",
            "children": [
              "IPY_MODEL_0248ba4878e643a18a642ce77efc4c97",
              "IPY_MODEL_37f7a8347738434996419a3b106a5df4"
            ]
          }
        },
        "ba13a6585e7a44b2ac7be8847a804adb": {
          "model_module": "@jupyter-widgets/base",
          "model_name": "LayoutModel",
          "state": {
            "_view_name": "LayoutView",
            "grid_template_rows": null,
            "right": null,
            "justify_content": null,
            "_view_module": "@jupyter-widgets/base",
            "overflow": null,
            "_model_module_version": "1.2.0",
            "_view_count": null,
            "flex_flow": null,
            "width": null,
            "min_width": null,
            "border": null,
            "align_items": null,
            "bottom": null,
            "_model_module": "@jupyter-widgets/base",
            "top": null,
            "grid_column": null,
            "overflow_y": null,
            "overflow_x": null,
            "grid_auto_flow": null,
            "grid_area": null,
            "grid_template_columns": null,
            "flex": null,
            "_model_name": "LayoutModel",
            "justify_items": null,
            "grid_row": null,
            "max_height": null,
            "align_content": null,
            "visibility": null,
            "align_self": null,
            "height": null,
            "min_height": null,
            "padding": null,
            "grid_auto_rows": null,
            "grid_gap": null,
            "max_width": null,
            "order": null,
            "_view_module_version": "1.2.0",
            "grid_template_areas": null,
            "object_position": null,
            "object_fit": null,
            "grid_auto_columns": null,
            "margin": null,
            "display": null,
            "left": null
          }
        },
        "0248ba4878e643a18a642ce77efc4c97": {
          "model_module": "@jupyter-widgets/controls",
          "model_name": "FloatProgressModel",
          "state": {
            "_view_name": "ProgressView",
            "style": "IPY_MODEL_311704d4dae14413939668a2d5681b34",
            "_dom_classes": [],
            "description": "Downloading: 100%",
            "_model_name": "FloatProgressModel",
            "bar_style": "success",
            "max": 1222317369,
            "_view_module": "@jupyter-widgets/controls",
            "_model_module_version": "1.5.0",
            "value": 1222317369,
            "_view_count": null,
            "_view_module_version": "1.5.0",
            "orientation": "horizontal",
            "min": 0,
            "description_tooltip": null,
            "_model_module": "@jupyter-widgets/controls",
            "layout": "IPY_MODEL_36c79056b93f4dd3bc37037c04a2ba09"
          }
        },
        "37f7a8347738434996419a3b106a5df4": {
          "model_module": "@jupyter-widgets/controls",
          "model_name": "HTMLModel",
          "state": {
            "_view_name": "HTMLView",
            "style": "IPY_MODEL_9bae96bbdfd44e68a093b7269cbd2603",
            "_dom_classes": [],
            "description": "",
            "_model_name": "HTMLModel",
            "placeholder": "​",
            "_view_module": "@jupyter-widgets/controls",
            "_model_module_version": "1.5.0",
            "value": " 1.22G/1.22G [00:32&lt;00:00, 37.7MB/s]",
            "_view_count": null,
            "_view_module_version": "1.5.0",
            "description_tooltip": null,
            "_model_module": "@jupyter-widgets/controls",
            "layout": "IPY_MODEL_feb4eedc1c394a61b42c48803fd7ea5a"
          }
        },
        "311704d4dae14413939668a2d5681b34": {
          "model_module": "@jupyter-widgets/controls",
          "model_name": "ProgressStyleModel",
          "state": {
            "_view_name": "StyleView",
            "_model_name": "ProgressStyleModel",
            "description_width": "initial",
            "_view_module": "@jupyter-widgets/base",
            "_model_module_version": "1.5.0",
            "_view_count": null,
            "_view_module_version": "1.2.0",
            "bar_color": null,
            "_model_module": "@jupyter-widgets/controls"
          }
        },
        "36c79056b93f4dd3bc37037c04a2ba09": {
          "model_module": "@jupyter-widgets/base",
          "model_name": "LayoutModel",
          "state": {
            "_view_name": "LayoutView",
            "grid_template_rows": null,
            "right": null,
            "justify_content": null,
            "_view_module": "@jupyter-widgets/base",
            "overflow": null,
            "_model_module_version": "1.2.0",
            "_view_count": null,
            "flex_flow": null,
            "width": null,
            "min_width": null,
            "border": null,
            "align_items": null,
            "bottom": null,
            "_model_module": "@jupyter-widgets/base",
            "top": null,
            "grid_column": null,
            "overflow_y": null,
            "overflow_x": null,
            "grid_auto_flow": null,
            "grid_area": null,
            "grid_template_columns": null,
            "flex": null,
            "_model_name": "LayoutModel",
            "justify_items": null,
            "grid_row": null,
            "max_height": null,
            "align_content": null,
            "visibility": null,
            "align_self": null,
            "height": null,
            "min_height": null,
            "padding": null,
            "grid_auto_rows": null,
            "grid_gap": null,
            "max_width": null,
            "order": null,
            "_view_module_version": "1.2.0",
            "grid_template_areas": null,
            "object_position": null,
            "object_fit": null,
            "grid_auto_columns": null,
            "margin": null,
            "display": null,
            "left": null
          }
        },
        "9bae96bbdfd44e68a093b7269cbd2603": {
          "model_module": "@jupyter-widgets/controls",
          "model_name": "DescriptionStyleModel",
          "state": {
            "_view_name": "StyleView",
            "_model_name": "DescriptionStyleModel",
            "description_width": "",
            "_view_module": "@jupyter-widgets/base",
            "_model_module_version": "1.5.0",
            "_view_count": null,
            "_view_module_version": "1.2.0",
            "_model_module": "@jupyter-widgets/controls"
          }
        },
        "feb4eedc1c394a61b42c48803fd7ea5a": {
          "model_module": "@jupyter-widgets/base",
          "model_name": "LayoutModel",
          "state": {
            "_view_name": "LayoutView",
            "grid_template_rows": null,
            "right": null,
            "justify_content": null,
            "_view_module": "@jupyter-widgets/base",
            "overflow": null,
            "_model_module_version": "1.2.0",
            "_view_count": null,
            "flex_flow": null,
            "width": null,
            "min_width": null,
            "border": null,
            "align_items": null,
            "bottom": null,
            "_model_module": "@jupyter-widgets/base",
            "top": null,
            "grid_column": null,
            "overflow_y": null,
            "overflow_x": null,
            "grid_auto_flow": null,
            "grid_area": null,
            "grid_template_columns": null,
            "flex": null,
            "_model_name": "LayoutModel",
            "justify_items": null,
            "grid_row": null,
            "max_height": null,
            "align_content": null,
            "visibility": null,
            "align_self": null,
            "height": null,
            "min_height": null,
            "padding": null,
            "grid_auto_rows": null,
            "grid_gap": null,
            "max_width": null,
            "order": null,
            "_view_module_version": "1.2.0",
            "grid_template_areas": null,
            "object_position": null,
            "object_fit": null,
            "grid_auto_columns": null,
            "margin": null,
            "display": null,
            "left": null
          }
        },
        "56a8d9b4438042fa9dd034206f4f0bf1": {
          "model_module": "@jupyter-widgets/controls",
          "model_name": "HBoxModel",
          "state": {
            "_view_name": "HBoxView",
            "_dom_classes": [],
            "_model_name": "HBoxModel",
            "_view_module": "@jupyter-widgets/controls",
            "_model_module_version": "1.5.0",
            "_view_count": null,
            "_view_module_version": "1.5.0",
            "box_style": "",
            "layout": "IPY_MODEL_9e17ea0c72a14412aa6f3f4cd754f7cd",
            "_model_module": "@jupyter-widgets/controls",
            "children": [
              "IPY_MODEL_0e383998ded045338b7c29266f1b5403",
              "IPY_MODEL_0db34a7aa7bf41c782f5b58d1063b5d7"
            ]
          }
        },
        "9e17ea0c72a14412aa6f3f4cd754f7cd": {
          "model_module": "@jupyter-widgets/base",
          "model_name": "LayoutModel",
          "state": {
            "_view_name": "LayoutView",
            "grid_template_rows": null,
            "right": null,
            "justify_content": null,
            "_view_module": "@jupyter-widgets/base",
            "overflow": null,
            "_model_module_version": "1.2.0",
            "_view_count": null,
            "flex_flow": null,
            "width": null,
            "min_width": null,
            "border": null,
            "align_items": null,
            "bottom": null,
            "_model_module": "@jupyter-widgets/base",
            "top": null,
            "grid_column": null,
            "overflow_y": null,
            "overflow_x": null,
            "grid_auto_flow": null,
            "grid_area": null,
            "grid_template_columns": null,
            "flex": null,
            "_model_name": "LayoutModel",
            "justify_items": null,
            "grid_row": null,
            "max_height": null,
            "align_content": null,
            "visibility": null,
            "align_self": null,
            "height": null,
            "min_height": null,
            "padding": null,
            "grid_auto_rows": null,
            "grid_gap": null,
            "max_width": null,
            "order": null,
            "_view_module_version": "1.2.0",
            "grid_template_areas": null,
            "object_position": null,
            "object_fit": null,
            "grid_auto_columns": null,
            "margin": null,
            "display": null,
            "left": null
          }
        },
        "0e383998ded045338b7c29266f1b5403": {
          "model_module": "@jupyter-widgets/controls",
          "model_name": "FloatProgressModel",
          "state": {
            "_view_name": "ProgressView",
            "style": "IPY_MODEL_91916f1f2d2e4cbcab64e309dba0317a",
            "_dom_classes": [],
            "description": "Downloading: 100%",
            "_model_name": "FloatProgressModel",
            "bar_style": "success",
            "max": 26,
            "_view_module": "@jupyter-widgets/controls",
            "_model_module_version": "1.5.0",
            "value": 26,
            "_view_count": null,
            "_view_module_version": "1.5.0",
            "orientation": "horizontal",
            "min": 0,
            "description_tooltip": null,
            "_model_module": "@jupyter-widgets/controls",
            "layout": "IPY_MODEL_d0a2dc4fae3b42df805c37c309b5d3f0"
          }
        },
        "0db34a7aa7bf41c782f5b58d1063b5d7": {
          "model_module": "@jupyter-widgets/controls",
          "model_name": "HTMLModel",
          "state": {
            "_view_name": "HTMLView",
            "style": "IPY_MODEL_925796c4200b414db84bdf09423cf995",
            "_dom_classes": [],
            "description": "",
            "_model_name": "HTMLModel",
            "placeholder": "​",
            "_view_module": "@jupyter-widgets/controls",
            "_model_module_version": "1.5.0",
            "value": " 26.0/26.0 [00:00&lt;00:00, 71.5B/s]",
            "_view_count": null,
            "_view_module_version": "1.5.0",
            "description_tooltip": null,
            "_model_module": "@jupyter-widgets/controls",
            "layout": "IPY_MODEL_2b0da952502e4810bb9b1df72e390a50"
          }
        },
        "91916f1f2d2e4cbcab64e309dba0317a": {
          "model_module": "@jupyter-widgets/controls",
          "model_name": "ProgressStyleModel",
          "state": {
            "_view_name": "StyleView",
            "_model_name": "ProgressStyleModel",
            "description_width": "initial",
            "_view_module": "@jupyter-widgets/base",
            "_model_module_version": "1.5.0",
            "_view_count": null,
            "_view_module_version": "1.2.0",
            "bar_color": null,
            "_model_module": "@jupyter-widgets/controls"
          }
        },
        "d0a2dc4fae3b42df805c37c309b5d3f0": {
          "model_module": "@jupyter-widgets/base",
          "model_name": "LayoutModel",
          "state": {
            "_view_name": "LayoutView",
            "grid_template_rows": null,
            "right": null,
            "justify_content": null,
            "_view_module": "@jupyter-widgets/base",
            "overflow": null,
            "_model_module_version": "1.2.0",
            "_view_count": null,
            "flex_flow": null,
            "width": null,
            "min_width": null,
            "border": null,
            "align_items": null,
            "bottom": null,
            "_model_module": "@jupyter-widgets/base",
            "top": null,
            "grid_column": null,
            "overflow_y": null,
            "overflow_x": null,
            "grid_auto_flow": null,
            "grid_area": null,
            "grid_template_columns": null,
            "flex": null,
            "_model_name": "LayoutModel",
            "justify_items": null,
            "grid_row": null,
            "max_height": null,
            "align_content": null,
            "visibility": null,
            "align_self": null,
            "height": null,
            "min_height": null,
            "padding": null,
            "grid_auto_rows": null,
            "grid_gap": null,
            "max_width": null,
            "order": null,
            "_view_module_version": "1.2.0",
            "grid_template_areas": null,
            "object_position": null,
            "object_fit": null,
            "grid_auto_columns": null,
            "margin": null,
            "display": null,
            "left": null
          }
        },
        "925796c4200b414db84bdf09423cf995": {
          "model_module": "@jupyter-widgets/controls",
          "model_name": "DescriptionStyleModel",
          "state": {
            "_view_name": "StyleView",
            "_model_name": "DescriptionStyleModel",
            "description_width": "",
            "_view_module": "@jupyter-widgets/base",
            "_model_module_version": "1.5.0",
            "_view_count": null,
            "_view_module_version": "1.2.0",
            "_model_module": "@jupyter-widgets/controls"
          }
        },
        "2b0da952502e4810bb9b1df72e390a50": {
          "model_module": "@jupyter-widgets/base",
          "model_name": "LayoutModel",
          "state": {
            "_view_name": "LayoutView",
            "grid_template_rows": null,
            "right": null,
            "justify_content": null,
            "_view_module": "@jupyter-widgets/base",
            "overflow": null,
            "_model_module_version": "1.2.0",
            "_view_count": null,
            "flex_flow": null,
            "width": null,
            "min_width": null,
            "border": null,
            "align_items": null,
            "bottom": null,
            "_model_module": "@jupyter-widgets/base",
            "top": null,
            "grid_column": null,
            "overflow_y": null,
            "overflow_x": null,
            "grid_auto_flow": null,
            "grid_area": null,
            "grid_template_columns": null,
            "flex": null,
            "_model_name": "LayoutModel",
            "justify_items": null,
            "grid_row": null,
            "max_height": null,
            "align_content": null,
            "visibility": null,
            "align_self": null,
            "height": null,
            "min_height": null,
            "padding": null,
            "grid_auto_rows": null,
            "grid_gap": null,
            "max_width": null,
            "order": null,
            "_view_module_version": "1.2.0",
            "grid_template_areas": null,
            "object_position": null,
            "object_fit": null,
            "grid_auto_columns": null,
            "margin": null,
            "display": null,
            "left": null
          }
        },
        "9d9b3107db9d4ed0889b5c5bf5d0b2c9": {
          "model_module": "@jupyter-widgets/controls",
          "model_name": "HBoxModel",
          "state": {
            "_view_name": "HBoxView",
            "_dom_classes": [],
            "_model_name": "HBoxModel",
            "_view_module": "@jupyter-widgets/controls",
            "_model_module_version": "1.5.0",
            "_view_count": null,
            "_view_module_version": "1.5.0",
            "box_style": "",
            "layout": "IPY_MODEL_17d1ed4fe72f480da820ebb4b99d6fdd",
            "_model_module": "@jupyter-widgets/controls",
            "children": [
              "IPY_MODEL_8b1190d7ee094e668d03b1e4f266c010",
              "IPY_MODEL_aa09d01cbf8643698cfda2eaf8c5fc59"
            ]
          }
        },
        "17d1ed4fe72f480da820ebb4b99d6fdd": {
          "model_module": "@jupyter-widgets/base",
          "model_name": "LayoutModel",
          "state": {
            "_view_name": "LayoutView",
            "grid_template_rows": null,
            "right": null,
            "justify_content": null,
            "_view_module": "@jupyter-widgets/base",
            "overflow": null,
            "_model_module_version": "1.2.0",
            "_view_count": null,
            "flex_flow": null,
            "width": null,
            "min_width": null,
            "border": null,
            "align_items": null,
            "bottom": null,
            "_model_module": "@jupyter-widgets/base",
            "top": null,
            "grid_column": null,
            "overflow_y": null,
            "overflow_x": null,
            "grid_auto_flow": null,
            "grid_area": null,
            "grid_template_columns": null,
            "flex": null,
            "_model_name": "LayoutModel",
            "justify_items": null,
            "grid_row": null,
            "max_height": null,
            "align_content": null,
            "visibility": null,
            "align_self": null,
            "height": null,
            "min_height": null,
            "padding": null,
            "grid_auto_rows": null,
            "grid_gap": null,
            "max_width": null,
            "order": null,
            "_view_module_version": "1.2.0",
            "grid_template_areas": null,
            "object_position": null,
            "object_fit": null,
            "grid_auto_columns": null,
            "margin": null,
            "display": null,
            "left": null
          }
        },
        "8b1190d7ee094e668d03b1e4f266c010": {
          "model_module": "@jupyter-widgets/controls",
          "model_name": "FloatProgressModel",
          "state": {
            "_view_name": "ProgressView",
            "style": "IPY_MODEL_6ab45c67939648dfb9338cc4d485a62e",
            "_dom_classes": [],
            "description": "Downloading: 100%",
            "_model_name": "FloatProgressModel",
            "bar_style": "success",
            "max": 898822,
            "_view_module": "@jupyter-widgets/controls",
            "_model_module_version": "1.5.0",
            "value": 898822,
            "_view_count": null,
            "_view_module_version": "1.5.0",
            "orientation": "horizontal",
            "min": 0,
            "description_tooltip": null,
            "_model_module": "@jupyter-widgets/controls",
            "layout": "IPY_MODEL_ae371ad15ac64f39a2f0c0cef4fae647"
          }
        },
        "aa09d01cbf8643698cfda2eaf8c5fc59": {
          "model_module": "@jupyter-widgets/controls",
          "model_name": "HTMLModel",
          "state": {
            "_view_name": "HTMLView",
            "style": "IPY_MODEL_fb07d79c46db4188bb2f6eef0a47df6a",
            "_dom_classes": [],
            "description": "",
            "_model_name": "HTMLModel",
            "placeholder": "​",
            "_view_module": "@jupyter-widgets/controls",
            "_model_module_version": "1.5.0",
            "value": " 899k/899k [00:00&lt;00:00, 5.60MB/s]",
            "_view_count": null,
            "_view_module_version": "1.5.0",
            "description_tooltip": null,
            "_model_module": "@jupyter-widgets/controls",
            "layout": "IPY_MODEL_c96c7807a19c4113a6b37904956db03e"
          }
        },
        "6ab45c67939648dfb9338cc4d485a62e": {
          "model_module": "@jupyter-widgets/controls",
          "model_name": "ProgressStyleModel",
          "state": {
            "_view_name": "StyleView",
            "_model_name": "ProgressStyleModel",
            "description_width": "initial",
            "_view_module": "@jupyter-widgets/base",
            "_model_module_version": "1.5.0",
            "_view_count": null,
            "_view_module_version": "1.2.0",
            "bar_color": null,
            "_model_module": "@jupyter-widgets/controls"
          }
        },
        "ae371ad15ac64f39a2f0c0cef4fae647": {
          "model_module": "@jupyter-widgets/base",
          "model_name": "LayoutModel",
          "state": {
            "_view_name": "LayoutView",
            "grid_template_rows": null,
            "right": null,
            "justify_content": null,
            "_view_module": "@jupyter-widgets/base",
            "overflow": null,
            "_model_module_version": "1.2.0",
            "_view_count": null,
            "flex_flow": null,
            "width": null,
            "min_width": null,
            "border": null,
            "align_items": null,
            "bottom": null,
            "_model_module": "@jupyter-widgets/base",
            "top": null,
            "grid_column": null,
            "overflow_y": null,
            "overflow_x": null,
            "grid_auto_flow": null,
            "grid_area": null,
            "grid_template_columns": null,
            "flex": null,
            "_model_name": "LayoutModel",
            "justify_items": null,
            "grid_row": null,
            "max_height": null,
            "align_content": null,
            "visibility": null,
            "align_self": null,
            "height": null,
            "min_height": null,
            "padding": null,
            "grid_auto_rows": null,
            "grid_gap": null,
            "max_width": null,
            "order": null,
            "_view_module_version": "1.2.0",
            "grid_template_areas": null,
            "object_position": null,
            "object_fit": null,
            "grid_auto_columns": null,
            "margin": null,
            "display": null,
            "left": null
          }
        },
        "fb07d79c46db4188bb2f6eef0a47df6a": {
          "model_module": "@jupyter-widgets/controls",
          "model_name": "DescriptionStyleModel",
          "state": {
            "_view_name": "StyleView",
            "_model_name": "DescriptionStyleModel",
            "description_width": "",
            "_view_module": "@jupyter-widgets/base",
            "_model_module_version": "1.5.0",
            "_view_count": null,
            "_view_module_version": "1.2.0",
            "_model_module": "@jupyter-widgets/controls"
          }
        },
        "c96c7807a19c4113a6b37904956db03e": {
          "model_module": "@jupyter-widgets/base",
          "model_name": "LayoutModel",
          "state": {
            "_view_name": "LayoutView",
            "grid_template_rows": null,
            "right": null,
            "justify_content": null,
            "_view_module": "@jupyter-widgets/base",
            "overflow": null,
            "_model_module_version": "1.2.0",
            "_view_count": null,
            "flex_flow": null,
            "width": null,
            "min_width": null,
            "border": null,
            "align_items": null,
            "bottom": null,
            "_model_module": "@jupyter-widgets/base",
            "top": null,
            "grid_column": null,
            "overflow_y": null,
            "overflow_x": null,
            "grid_auto_flow": null,
            "grid_area": null,
            "grid_template_columns": null,
            "flex": null,
            "_model_name": "LayoutModel",
            "justify_items": null,
            "grid_row": null,
            "max_height": null,
            "align_content": null,
            "visibility": null,
            "align_self": null,
            "height": null,
            "min_height": null,
            "padding": null,
            "grid_auto_rows": null,
            "grid_gap": null,
            "max_width": null,
            "order": null,
            "_view_module_version": "1.2.0",
            "grid_template_areas": null,
            "object_position": null,
            "object_fit": null,
            "grid_auto_columns": null,
            "margin": null,
            "display": null,
            "left": null
          }
        },
        "db639baa7dfd4a6ca1bb182494d50276": {
          "model_module": "@jupyter-widgets/controls",
          "model_name": "HBoxModel",
          "state": {
            "_view_name": "HBoxView",
            "_dom_classes": [],
            "_model_name": "HBoxModel",
            "_view_module": "@jupyter-widgets/controls",
            "_model_module_version": "1.5.0",
            "_view_count": null,
            "_view_module_version": "1.5.0",
            "box_style": "",
            "layout": "IPY_MODEL_d98d49c190e64febab03027ffddc94f3",
            "_model_module": "@jupyter-widgets/controls",
            "children": [
              "IPY_MODEL_83c759ac1c0441db86d4fdecf1fb3df4",
              "IPY_MODEL_426eab59dfd647eaaffe4f8f64f33a7f"
            ]
          }
        },
        "d98d49c190e64febab03027ffddc94f3": {
          "model_module": "@jupyter-widgets/base",
          "model_name": "LayoutModel",
          "state": {
            "_view_name": "LayoutView",
            "grid_template_rows": null,
            "right": null,
            "justify_content": null,
            "_view_module": "@jupyter-widgets/base",
            "overflow": null,
            "_model_module_version": "1.2.0",
            "_view_count": null,
            "flex_flow": null,
            "width": null,
            "min_width": null,
            "border": null,
            "align_items": null,
            "bottom": null,
            "_model_module": "@jupyter-widgets/base",
            "top": null,
            "grid_column": null,
            "overflow_y": null,
            "overflow_x": null,
            "grid_auto_flow": null,
            "grid_area": null,
            "grid_template_columns": null,
            "flex": null,
            "_model_name": "LayoutModel",
            "justify_items": null,
            "grid_row": null,
            "max_height": null,
            "align_content": null,
            "visibility": null,
            "align_self": null,
            "height": null,
            "min_height": null,
            "padding": null,
            "grid_auto_rows": null,
            "grid_gap": null,
            "max_width": null,
            "order": null,
            "_view_module_version": "1.2.0",
            "grid_template_areas": null,
            "object_position": null,
            "object_fit": null,
            "grid_auto_columns": null,
            "margin": null,
            "display": null,
            "left": null
          }
        },
        "83c759ac1c0441db86d4fdecf1fb3df4": {
          "model_module": "@jupyter-widgets/controls",
          "model_name": "FloatProgressModel",
          "state": {
            "_view_name": "ProgressView",
            "style": "IPY_MODEL_a21208a31d444564a19056d0b1074384",
            "_dom_classes": [],
            "description": "Downloading: 100%",
            "_model_name": "FloatProgressModel",
            "bar_style": "success",
            "max": 456318,
            "_view_module": "@jupyter-widgets/controls",
            "_model_module_version": "1.5.0",
            "value": 456318,
            "_view_count": null,
            "_view_module_version": "1.5.0",
            "orientation": "horizontal",
            "min": 0,
            "description_tooltip": null,
            "_model_module": "@jupyter-widgets/controls",
            "layout": "IPY_MODEL_b7e754b2149642889c113c46ee6deaf9"
          }
        },
        "426eab59dfd647eaaffe4f8f64f33a7f": {
          "model_module": "@jupyter-widgets/controls",
          "model_name": "HTMLModel",
          "state": {
            "_view_name": "HTMLView",
            "style": "IPY_MODEL_882da8697d2c466fa08cb556b42b7183",
            "_dom_classes": [],
            "description": "",
            "_model_name": "HTMLModel",
            "placeholder": "​",
            "_view_module": "@jupyter-widgets/controls",
            "_model_module_version": "1.5.0",
            "value": " 456k/456k [00:00&lt;00:00, 1.60MB/s]",
            "_view_count": null,
            "_view_module_version": "1.5.0",
            "description_tooltip": null,
            "_model_module": "@jupyter-widgets/controls",
            "layout": "IPY_MODEL_466826c739a54c5b945c8c0694521eda"
          }
        },
        "a21208a31d444564a19056d0b1074384": {
          "model_module": "@jupyter-widgets/controls",
          "model_name": "ProgressStyleModel",
          "state": {
            "_view_name": "StyleView",
            "_model_name": "ProgressStyleModel",
            "description_width": "initial",
            "_view_module": "@jupyter-widgets/base",
            "_model_module_version": "1.5.0",
            "_view_count": null,
            "_view_module_version": "1.2.0",
            "bar_color": null,
            "_model_module": "@jupyter-widgets/controls"
          }
        },
        "b7e754b2149642889c113c46ee6deaf9": {
          "model_module": "@jupyter-widgets/base",
          "model_name": "LayoutModel",
          "state": {
            "_view_name": "LayoutView",
            "grid_template_rows": null,
            "right": null,
            "justify_content": null,
            "_view_module": "@jupyter-widgets/base",
            "overflow": null,
            "_model_module_version": "1.2.0",
            "_view_count": null,
            "flex_flow": null,
            "width": null,
            "min_width": null,
            "border": null,
            "align_items": null,
            "bottom": null,
            "_model_module": "@jupyter-widgets/base",
            "top": null,
            "grid_column": null,
            "overflow_y": null,
            "overflow_x": null,
            "grid_auto_flow": null,
            "grid_area": null,
            "grid_template_columns": null,
            "flex": null,
            "_model_name": "LayoutModel",
            "justify_items": null,
            "grid_row": null,
            "max_height": null,
            "align_content": null,
            "visibility": null,
            "align_self": null,
            "height": null,
            "min_height": null,
            "padding": null,
            "grid_auto_rows": null,
            "grid_gap": null,
            "max_width": null,
            "order": null,
            "_view_module_version": "1.2.0",
            "grid_template_areas": null,
            "object_position": null,
            "object_fit": null,
            "grid_auto_columns": null,
            "margin": null,
            "display": null,
            "left": null
          }
        },
        "882da8697d2c466fa08cb556b42b7183": {
          "model_module": "@jupyter-widgets/controls",
          "model_name": "DescriptionStyleModel",
          "state": {
            "_view_name": "StyleView",
            "_model_name": "DescriptionStyleModel",
            "description_width": "",
            "_view_module": "@jupyter-widgets/base",
            "_model_module_version": "1.5.0",
            "_view_count": null,
            "_view_module_version": "1.2.0",
            "_model_module": "@jupyter-widgets/controls"
          }
        },
        "466826c739a54c5b945c8c0694521eda": {
          "model_module": "@jupyter-widgets/base",
          "model_name": "LayoutModel",
          "state": {
            "_view_name": "LayoutView",
            "grid_template_rows": null,
            "right": null,
            "justify_content": null,
            "_view_module": "@jupyter-widgets/base",
            "overflow": null,
            "_model_module_version": "1.2.0",
            "_view_count": null,
            "flex_flow": null,
            "width": null,
            "min_width": null,
            "border": null,
            "align_items": null,
            "bottom": null,
            "_model_module": "@jupyter-widgets/base",
            "top": null,
            "grid_column": null,
            "overflow_y": null,
            "overflow_x": null,
            "grid_auto_flow": null,
            "grid_area": null,
            "grid_template_columns": null,
            "flex": null,
            "_model_name": "LayoutModel",
            "justify_items": null,
            "grid_row": null,
            "max_height": null,
            "align_content": null,
            "visibility": null,
            "align_self": null,
            "height": null,
            "min_height": null,
            "padding": null,
            "grid_auto_rows": null,
            "grid_gap": null,
            "max_width": null,
            "order": null,
            "_view_module_version": "1.2.0",
            "grid_template_areas": null,
            "object_position": null,
            "object_fit": null,
            "grid_auto_columns": null,
            "margin": null,
            "display": null,
            "left": null
          }
        }
      }
    }
  },
  "cells": [
    {
      "cell_type": "code",
      "metadata": {
        "colab": {
          "base_uri": "https://localhost:8080/"
        },
        "id": "6pJAqepurq6E",
        "outputId": "8b832b40-d181-4a66-a576-a6a459e3fa62"
      },
      "source": [
        "!pip install transformers"
      ],
      "execution_count": 1,
      "outputs": [
        {
          "output_type": "stream",
          "text": [
            "Collecting transformers\n",
            "  Downloading transformers-4.9.0-py3-none-any.whl (2.6 MB)\n",
            "\u001b[K     |████████████████████████████████| 2.6 MB 28.6 MB/s \n",
            "\u001b[?25hRequirement already satisfied: requests in /usr/local/lib/python3.7/dist-packages (from transformers) (2.23.0)\n",
            "Requirement already satisfied: importlib-metadata in /usr/local/lib/python3.7/dist-packages (from transformers) (4.6.1)\n",
            "Requirement already satisfied: tqdm>=4.27 in /usr/local/lib/python3.7/dist-packages (from transformers) (4.41.1)\n",
            "Collecting sacremoses\n",
            "  Downloading sacremoses-0.0.45-py3-none-any.whl (895 kB)\n",
            "\u001b[K     |████████████████████████████████| 895 kB 51.6 MB/s \n",
            "\u001b[?25hRequirement already satisfied: packaging in /usr/local/lib/python3.7/dist-packages (from transformers) (21.0)\n",
            "Collecting tokenizers<0.11,>=0.10.1\n",
            "  Downloading tokenizers-0.10.3-cp37-cp37m-manylinux_2_5_x86_64.manylinux1_x86_64.manylinux_2_12_x86_64.manylinux2010_x86_64.whl (3.3 MB)\n",
            "\u001b[K     |████████████████████████████████| 3.3 MB 61.1 MB/s \n",
            "\u001b[?25hCollecting pyyaml>=5.1\n",
            "  Downloading PyYAML-5.4.1-cp37-cp37m-manylinux1_x86_64.whl (636 kB)\n",
            "\u001b[K     |████████████████████████████████| 636 kB 47.0 MB/s \n",
            "\u001b[?25hRequirement already satisfied: numpy>=1.17 in /usr/local/lib/python3.7/dist-packages (from transformers) (1.19.5)\n",
            "Collecting huggingface-hub==0.0.12\n",
            "  Downloading huggingface_hub-0.0.12-py3-none-any.whl (37 kB)\n",
            "Requirement already satisfied: regex!=2019.12.17 in /usr/local/lib/python3.7/dist-packages (from transformers) (2019.12.20)\n",
            "Requirement already satisfied: filelock in /usr/local/lib/python3.7/dist-packages (from transformers) (3.0.12)\n",
            "Requirement already satisfied: typing-extensions in /usr/local/lib/python3.7/dist-packages (from huggingface-hub==0.0.12->transformers) (3.7.4.3)\n",
            "Requirement already satisfied: pyparsing>=2.0.2 in /usr/local/lib/python3.7/dist-packages (from packaging->transformers) (2.4.7)\n",
            "Requirement already satisfied: zipp>=0.5 in /usr/local/lib/python3.7/dist-packages (from importlib-metadata->transformers) (3.5.0)\n",
            "Requirement already satisfied: urllib3!=1.25.0,!=1.25.1,<1.26,>=1.21.1 in /usr/local/lib/python3.7/dist-packages (from requests->transformers) (1.24.3)\n",
            "Requirement already satisfied: certifi>=2017.4.17 in /usr/local/lib/python3.7/dist-packages (from requests->transformers) (2021.5.30)\n",
            "Requirement already satisfied: idna<3,>=2.5 in /usr/local/lib/python3.7/dist-packages (from requests->transformers) (2.10)\n",
            "Requirement already satisfied: chardet<4,>=3.0.2 in /usr/local/lib/python3.7/dist-packages (from requests->transformers) (3.0.4)\n",
            "Requirement already satisfied: click in /usr/local/lib/python3.7/dist-packages (from sacremoses->transformers) (7.1.2)\n",
            "Requirement already satisfied: six in /usr/local/lib/python3.7/dist-packages (from sacremoses->transformers) (1.15.0)\n",
            "Requirement already satisfied: joblib in /usr/local/lib/python3.7/dist-packages (from sacremoses->transformers) (1.0.1)\n",
            "Installing collected packages: tokenizers, sacremoses, pyyaml, huggingface-hub, transformers\n",
            "  Attempting uninstall: pyyaml\n",
            "    Found existing installation: PyYAML 3.13\n",
            "    Uninstalling PyYAML-3.13:\n",
            "      Successfully uninstalled PyYAML-3.13\n",
            "Successfully installed huggingface-hub-0.0.12 pyyaml-5.4.1 sacremoses-0.0.45 tokenizers-0.10.3 transformers-4.9.0\n"
          ],
          "name": "stdout"
        }
      ]
    },
    {
      "cell_type": "code",
      "metadata": {
        "id": "ul0_IrEA6VJd"
      },
      "source": [
        "text = \"This is known that unless business knowledge is available at right time to create ideas and with limited knowledge on technology creative talent will not grow. In order to achieve the exposure to a talent, a resource needs exposure in a business or system. There are multiple intelligent resources available in their respective industry. But these resources don’t have the exposure to business knowledge or cross functionality training. So knowledge and need for understanding the problem areas are necessary to create innovative ideas and solutions. Knowledge Bots are necessary for any organization which can provide easy method of gaining knowledge. Organizations have knowledge repository in their intranet sites, servers, mailboxes, cloud, etc. which are availed by the internal staff and associated third party staff. These sites normally have extensive information for specific topic, which takes more time to read and understand. Sometimes these topics may not be useful at all. Searching acronym takes time as search will provide multiple documents to be read through. These Knowledge from intranet sites can be useful if somebody needs deep understanding of specific topic or lesson. Another aspect is that, who is searching the info should know how to search and what to search and how the information is classified in these intranet sites. To overcome these problems and quickly gain right information, the knowledge bot/ information bot can be handy. The knowledge bots can be developed and used by the banks. These bots can be accessed by the teams over the computer, mobile, etc. Advantage of Knowledge Bots: 1) Knowledge Bots will save lot of time, money and resources. 2) Knowledge Bots can be Chat Bot and NLP Bots(Natural Language Processing), which will process in multiple voice languages. 3) These Bots can be available 24/7 to be accessed from any where over internet enabled devices to give instant answers. 4) Bots can help gather from the user getting insight about their activities, preferences, problems and more. 5) Knowledge bots can be enriched by adding more information on the user activities & preferences. 6) As bots are machine dependent, the multiple queries from different users can be addressed over voice or chat. 7) Bots will improve the productivity of the user, teams by providing knowledge input. 8) Search functionality can be a valuable tool within a bot. Bots are normally used to automate certain tasks, meaning they can run without specific instructions from humans. An organization or individual can use a bot to replace a repetitive task that a human would otherwise have to perform. Bots are also much faster at these tasks that of humans. Regardless of the use case for which a knowledge bot is designed, its basic objective is always the same: find and return the information that the user has requested by leveraging body of data. What information knowledge bot repository keeps ? In a bank, bots can be used with repository of information. a) Acronym – A short answer for acronym. b) Concept of banking Word : Short description which easily describe the banking concept. c) Banking product meaning with hierarchy description. d) Link to reference of a topic. e) Different banking operational system & meaning, describing usage of the system. f) Bot repository can keep the banking training to provide automated and repetitive training. g) Banking Business Glossary to utilize in understanding which can be retrieved from the repository. h) Banking FAQs can be stored and retrieved whenever necessary from a bot. i) Banking knowledge bots can be useful for hierarchy based questions and answers. So these information can be retrieved from the repository. j) Banks can store more informative and useful information that can be accessed at the right time from a bot. Typical scenario, like pandemic time or natural disaster or remote location, to access the physical information is limited. Hence knowledge Bots are useful in delivering right information quickly. Currently there are multiple frameworks & SDK available that are in the IT industry to develop effective knowledge bots in the banking sector. A well implemented knowledge bot acts as a virtual agent and answering machine to serve users continuously round the clock. It can handle all type of queries and channelize them to the right agent. When compared to traditional IVR system or physical search of knowledge repository, Knowledge bots instantly help in basic terms, acronyms, rules and products etc. When the need of the hour is instant connectivity and gratification, knowledge bots are here to immensely reduce workload and improve the efficiency of banking knowledge base to its users.\""
      ],
      "execution_count": 2,
      "outputs": []
    },
    {
      "cell_type": "code",
      "metadata": {
        "id": "pvCNDlpW65R0"
      },
      "source": [
        "#using transformers for summary\n",
        "from transformers import pipeline"
      ],
      "execution_count": 3,
      "outputs": []
    },
    {
      "cell_type": "code",
      "metadata": {
        "colab": {
          "base_uri": "https://localhost:8080/",
          "height": 262,
          "referenced_widgets": [
            "fd5ab9b1237146b1bd4bbc98b142d502",
            "de841fd0ffbe4572b090cb4113834a3f",
            "a0caec9097704021992bf31b0e75a261",
            "ad84a2c4e75241deb241a21c5db9ba5b",
            "5351a94c1e6849fb97617608970b4183",
            "7f4509f972d74e7b8e0b5c88a43158ad",
            "7c81b224404147aeb9fdfff2c9c0d5cc",
            "78ef9a5e448747edb4e932838a9ef3d5",
            "faf7dfb3459f4c82955e17fb3c99056a",
            "ba13a6585e7a44b2ac7be8847a804adb",
            "0248ba4878e643a18a642ce77efc4c97",
            "37f7a8347738434996419a3b106a5df4",
            "311704d4dae14413939668a2d5681b34",
            "36c79056b93f4dd3bc37037c04a2ba09",
            "9bae96bbdfd44e68a093b7269cbd2603",
            "feb4eedc1c394a61b42c48803fd7ea5a",
            "56a8d9b4438042fa9dd034206f4f0bf1",
            "9e17ea0c72a14412aa6f3f4cd754f7cd",
            "0e383998ded045338b7c29266f1b5403",
            "0db34a7aa7bf41c782f5b58d1063b5d7",
            "91916f1f2d2e4cbcab64e309dba0317a",
            "d0a2dc4fae3b42df805c37c309b5d3f0",
            "925796c4200b414db84bdf09423cf995",
            "2b0da952502e4810bb9b1df72e390a50",
            "9d9b3107db9d4ed0889b5c5bf5d0b2c9",
            "17d1ed4fe72f480da820ebb4b99d6fdd",
            "8b1190d7ee094e668d03b1e4f266c010",
            "aa09d01cbf8643698cfda2eaf8c5fc59",
            "6ab45c67939648dfb9338cc4d485a62e",
            "ae371ad15ac64f39a2f0c0cef4fae647",
            "fb07d79c46db4188bb2f6eef0a47df6a",
            "c96c7807a19c4113a6b37904956db03e",
            "db639baa7dfd4a6ca1bb182494d50276",
            "d98d49c190e64febab03027ffddc94f3",
            "83c759ac1c0441db86d4fdecf1fb3df4",
            "426eab59dfd647eaaffe4f8f64f33a7f",
            "a21208a31d444564a19056d0b1074384",
            "b7e754b2149642889c113c46ee6deaf9",
            "882da8697d2c466fa08cb556b42b7183",
            "466826c739a54c5b945c8c0694521eda"
          ]
        },
        "id": "ghFgsqDo8D92",
        "outputId": "d2417d8e-ca5f-4227-c16a-2699e496a8f7"
      },
      "source": [
        "text_summary = pipeline(\"summarization\")"
      ],
      "execution_count": 4,
      "outputs": [
        {
          "output_type": "display_data",
          "data": {
            "application/vnd.jupyter.widget-view+json": {
              "model_id": "fd5ab9b1237146b1bd4bbc98b142d502",
              "version_minor": 0,
              "version_major": 2
            },
            "text/plain": [
              "HBox(children=(FloatProgress(value=0.0, description='Downloading', max=1802.0, style=ProgressStyle(description…"
            ]
          },
          "metadata": {
            "tags": []
          }
        },
        {
          "output_type": "stream",
          "text": [
            "\n"
          ],
          "name": "stdout"
        },
        {
          "output_type": "display_data",
          "data": {
            "application/vnd.jupyter.widget-view+json": {
              "model_id": "faf7dfb3459f4c82955e17fb3c99056a",
              "version_minor": 0,
              "version_major": 2
            },
            "text/plain": [
              "HBox(children=(FloatProgress(value=0.0, description='Downloading', max=1222317369.0, style=ProgressStyle(descr…"
            ]
          },
          "metadata": {
            "tags": []
          }
        },
        {
          "output_type": "stream",
          "text": [
            "\n"
          ],
          "name": "stdout"
        },
        {
          "output_type": "display_data",
          "data": {
            "application/vnd.jupyter.widget-view+json": {
              "model_id": "56a8d9b4438042fa9dd034206f4f0bf1",
              "version_minor": 0,
              "version_major": 2
            },
            "text/plain": [
              "HBox(children=(FloatProgress(value=0.0, description='Downloading', max=26.0, style=ProgressStyle(description_w…"
            ]
          },
          "metadata": {
            "tags": []
          }
        },
        {
          "output_type": "stream",
          "text": [
            "\n"
          ],
          "name": "stdout"
        },
        {
          "output_type": "display_data",
          "data": {
            "application/vnd.jupyter.widget-view+json": {
              "model_id": "9d9b3107db9d4ed0889b5c5bf5d0b2c9",
              "version_minor": 0,
              "version_major": 2
            },
            "text/plain": [
              "HBox(children=(FloatProgress(value=0.0, description='Downloading', max=898822.0, style=ProgressStyle(descripti…"
            ]
          },
          "metadata": {
            "tags": []
          }
        },
        {
          "output_type": "stream",
          "text": [
            "\n"
          ],
          "name": "stdout"
        },
        {
          "output_type": "display_data",
          "data": {
            "application/vnd.jupyter.widget-view+json": {
              "model_id": "db639baa7dfd4a6ca1bb182494d50276",
              "version_minor": 0,
              "version_major": 2
            },
            "text/plain": [
              "HBox(children=(FloatProgress(value=0.0, description='Downloading', max=456318.0, style=ProgressStyle(descripti…"
            ]
          },
          "metadata": {
            "tags": []
          }
        },
        {
          "output_type": "stream",
          "text": [
            "\n"
          ],
          "name": "stdout"
        }
      ]
    },
    {
      "cell_type": "code",
      "metadata": {
        "colab": {
          "base_uri": "https://localhost:8080/"
        },
        "id": "KledvPOq8eDP",
        "outputId": "38f32706-b8bb-4105-c3d3-c3c6d579215c"
      },
      "source": [
        "#summary\n",
        "our_text_summary = text_summary(text)"
      ],
      "execution_count": 5,
      "outputs": [
        {
          "output_type": "stream",
          "text": [
            "/usr/local/lib/python3.7/dist-packages/torch/_tensor.py:575: UserWarning: floor_divide is deprecated, and will be removed in a future version of pytorch. It currently rounds toward 0 (like the 'trunc' function NOT 'floor'). This results in incorrect rounding for negative values.\n",
            "To keep the current behavior, use torch.div(a, b, rounding_mode='trunc'), or for actual floor division, use torch.div(a, b, rounding_mode='floor'). (Triggered internally at  /pytorch/aten/src/ATen/native/BinaryOps.cpp:467.)\n",
            "  return torch.floor_divide(self, other)\n"
          ],
          "name": "stderr"
        }
      ]
    },
    {
      "cell_type": "code",
      "metadata": {
        "colab": {
          "base_uri": "https://localhost:8080/"
        },
        "id": "Z37JFYEV86z-",
        "outputId": "a1cb9889-b71b-4fce-a4bc-bd4c363ab16e"
      },
      "source": [
        "our_text_summary"
      ],
      "execution_count": 6,
      "outputs": [
        {
          "output_type": "execute_result",
          "data": {
            "text/plain": [
              "[{'summary_text': ' Knowledge Bots are necessary for any organization which can provide easy method of gaining knowledge . Organizations have knowledge repository in their intranet sites, servers, mailboxes, cloud, etc. which are availed by the internal staff and associated third party staff . These sites normally have extensive information for specific topic, which takes more time to read and understand . Bots are available 24/7 to be accessed from any where over internet enabled devices to give instant answers .'}]"
            ]
          },
          "metadata": {
            "tags": []
          },
          "execution_count": 6
        }
      ]
    },
    {
      "cell_type": "code",
      "metadata": {
        "id": "4DIKNU3s9Awd"
      },
      "source": [
        "organized_summary = \"\"\"Knowledge Bots are necessary for any organization which can provide easy method of gaining knowledge . Organizations have knowledge repository in their intranet sites, servers, mailboxes, cloud, etc. which are availed by the internal staff and associated third party staff . These sites normally have extensive information for specific topic, which takes more time to read and understand . Bots are available 24/7 to be accessed from any where over internet enabled devices to give instant answers.\"\"\""
      ],
      "execution_count": 11,
      "outputs": []
    },
    {
      "cell_type": "code",
      "metadata": {
        "colab": {
          "base_uri": "https://localhost:8080/",
          "height": 69
        },
        "id": "WpJJVhFE92RH",
        "outputId": "c93a543f-8e5c-479e-c78c-82ad2dee41a4"
      },
      "source": [
        "organized_summary"
      ],
      "execution_count": 12,
      "outputs": [
        {
          "output_type": "execute_result",
          "data": {
            "application/vnd.google.colaboratory.intrinsic+json": {
              "type": "string"
            },
            "text/plain": [
              "'Knowledge Bots are necessary for any organization which can provide easy method of gaining knowledge . Organizations have knowledge repository in their intranet sites, servers, mailboxes, cloud, etc. which are availed by the internal staff and associated third party staff . These sites normally have extensive information for specific topic, which takes more time to read and understand . Bots are available 24/7 to be accessed from any where over internet enabled devices to give instant answers.'"
            ]
          },
          "metadata": {
            "tags": []
          },
          "execution_count": 12
        }
      ]
    },
    {
      "cell_type": "code",
      "metadata": {
        "id": "mF5Jhb5fEDdt"
      },
      "source": [
        "new_txt = \"Wealth Lending Team own's a application name called Speed, which is used for the collateral lending management. This application is there in the Bank for almost 15 years by having the traditional technology struts framework with JSP and front end and Oracle as backend. Now as bank is moving towards innovation and technology upgrade all the new screen development are done with Angular and Spring boot as microservice. Most of the web pages in this application are form filling by the RM with maker checker flow. When each new requirement comes to the project team it takes around 2-3 weeks for a medium level page design with the api services. I suggested my LM can start a new design/framework where all these screen fields can be dynamically created with some configuration level architecture with Angular/ReactJS and Spring boot microservice. This will reduce the tremendous development effort which saves a hudge cost and time. After hearing this my LM is now very much interested to get a design proposal from me, but as I am very much busy in the project deliverables I could not concentrate much on this . I am thinking to propose a DB level configurable design where all the screen design and business flow are added to the DB table. And when ever a new page design requirement comes in the developer just needs to add the necessary configurable data into the DB table so that the code will dynamically creates the form and its fields.\""
      ],
      "execution_count": 25,
      "outputs": []
    },
    {
      "cell_type": "code",
      "metadata": {
        "id": "VFYvbLaNEDgV"
      },
      "source": [
        "our_txt_summary_new = text_summary(new_txt)"
      ],
      "execution_count": 26,
      "outputs": []
    },
    {
      "cell_type": "code",
      "metadata": {
        "colab": {
          "base_uri": "https://localhost:8080/"
        },
        "id": "P1oPPT7CEDi5",
        "outputId": "fdbff52e-d660-4ac5-e1d6-b6c00b162bc2"
      },
      "source": [
        "our_txt_summary_new"
      ],
      "execution_count": 27,
      "outputs": [
        {
          "output_type": "execute_result",
          "data": {
            "text/plain": [
              "[{'summary_text': ' Most of the web pages in this application are form filling by the RM with maker checker flow . When each new requirement comes to the project team it takes around 2-3 weeks for a medium level page design . I suggested my LM can start a new design/framework where all these screen fields can be dynamically created with some configuration level architecture . This will reduce the tremendous development effort which saves a hudge cost and time .'}]"
            ]
          },
          "metadata": {
            "tags": []
          },
          "execution_count": 27
        }
      ]
    },
    {
      "cell_type": "code",
      "metadata": {
        "id": "U5X0_ILoEdZ5"
      },
      "source": [
        "new_organized_summary = \"\"\"Most of the web pages in this application are form filling by the RM with maker checker flow . When each new requirement comes to the project team it takes around 2-3 weeks for a medium level page design . I suggested my LM can start a new design/framework where all these screen fields can be dynamically created with some configuration level architecture . This will reduce the tremendous development effort which saves a hudge cost and time.\"\"\""
      ],
      "execution_count": 28,
      "outputs": []
    },
    {
      "cell_type": "code",
      "metadata": {
        "colab": {
          "base_uri": "https://localhost:8080/",
          "height": 69
        },
        "id": "odQIgFJdEeCX",
        "outputId": "e5240183-aae1-4fa7-ade5-af3651e7d201"
      },
      "source": [
        "new_organized_summary"
      ],
      "execution_count": 29,
      "outputs": [
        {
          "output_type": "execute_result",
          "data": {
            "application/vnd.google.colaboratory.intrinsic+json": {
              "type": "string"
            },
            "text/plain": [
              "'Most of the web pages in this application are form filling by the RM with maker checker flow . When each new requirement comes to the project team it takes around 2-3 weeks for a medium level page design . I suggested my LM can start a new design/framework where all these screen fields can be dynamically created with some configuration level architecture . This will reduce the tremendous development effort which saves a hudge cost and time.'"
            ]
          },
          "metadata": {
            "tags": []
          },
          "execution_count": 29
        }
      ]
    },
    {
      "cell_type": "markdown",
      "metadata": {
        "id": "ewZp9Z8U-Zgm"
      },
      "source": [
        "# Extractive Summarization using Sumy"
      ]
    },
    {
      "cell_type": "code",
      "metadata": {
        "colab": {
          "base_uri": "https://localhost:8080/"
        },
        "id": "VKvI_fLm-ebg",
        "outputId": "23deef3b-dfcd-4ed6-8284-b871cd40dac8"
      },
      "source": [
        "!pip install sumy"
      ],
      "execution_count": 13,
      "outputs": [
        {
          "output_type": "stream",
          "text": [
            "Collecting sumy\n",
            "  Downloading sumy-0.8.1-py2.py3-none-any.whl (83 kB)\n",
            "\u001b[?25l\r\u001b[K     |████                            | 10 kB 21.8 MB/s eta 0:00:01\r\u001b[K     |███████▉                        | 20 kB 27.5 MB/s eta 0:00:01\r\u001b[K     |███████████▊                    | 30 kB 31.2 MB/s eta 0:00:01\r\u001b[K     |███████████████▋                | 40 kB 32.0 MB/s eta 0:00:01\r\u001b[K     |███████████████████▌            | 51 kB 33.3 MB/s eta 0:00:01\r\u001b[K     |███████████████████████▍        | 61 kB 36.5 MB/s eta 0:00:01\r\u001b[K     |███████████████████████████▍    | 71 kB 38.5 MB/s eta 0:00:01\r\u001b[K     |███████████████████████████████▎| 81 kB 39.0 MB/s eta 0:00:01\r\u001b[K     |████████████████████████████████| 83 kB 2.1 MB/s \n",
            "\u001b[?25hCollecting breadability>=0.1.20\n",
            "  Downloading breadability-0.1.20.tar.gz (32 kB)\n",
            "Requirement already satisfied: requests>=2.7.0 in /usr/local/lib/python3.7/dist-packages (from sumy) (2.23.0)\n",
            "Requirement already satisfied: docopt<0.7,>=0.6.1 in /usr/local/lib/python3.7/dist-packages (from sumy) (0.6.2)\n",
            "Requirement already satisfied: nltk>=3.0.2 in /usr/local/lib/python3.7/dist-packages (from sumy) (3.2.5)\n",
            "Collecting pycountry>=18.2.23\n",
            "  Downloading pycountry-20.7.3.tar.gz (10.1 MB)\n",
            "\u001b[K     |████████████████████████████████| 10.1 MB 39.2 MB/s \n",
            "\u001b[?25hRequirement already satisfied: chardet in /usr/local/lib/python3.7/dist-packages (from breadability>=0.1.20->sumy) (3.0.4)\n",
            "Requirement already satisfied: lxml>=2.0 in /usr/local/lib/python3.7/dist-packages (from breadability>=0.1.20->sumy) (4.2.6)\n",
            "Requirement already satisfied: six in /usr/local/lib/python3.7/dist-packages (from nltk>=3.0.2->sumy) (1.15.0)\n",
            "Requirement already satisfied: urllib3!=1.25.0,!=1.25.1,<1.26,>=1.21.1 in /usr/local/lib/python3.7/dist-packages (from requests>=2.7.0->sumy) (1.24.3)\n",
            "Requirement already satisfied: certifi>=2017.4.17 in /usr/local/lib/python3.7/dist-packages (from requests>=2.7.0->sumy) (2021.5.30)\n",
            "Requirement already satisfied: idna<3,>=2.5 in /usr/local/lib/python3.7/dist-packages (from requests>=2.7.0->sumy) (2.10)\n",
            "Building wheels for collected packages: breadability, pycountry\n",
            "  Building wheel for breadability (setup.py) ... \u001b[?25l\u001b[?25hdone\n",
            "  Created wheel for breadability: filename=breadability-0.1.20-py2.py3-none-any.whl size=21711 sha256=36a6bce9a05b45fddfc1b87333ee54d3c2e3c83cc6a253eda6b6acd1cb5c90cb\n",
            "  Stored in directory: /root/.cache/pip/wheels/d4/bf/51/81d27ad638e1a6dca4f362ecc33d1e2c764b8ea7ec751b8fc1\n",
            "  Building wheel for pycountry (setup.py) ... \u001b[?25l\u001b[?25hdone\n",
            "  Created wheel for pycountry: filename=pycountry-20.7.3-py2.py3-none-any.whl size=10746883 sha256=171445ac65bcdd3e174f7999682799fb4caf3b1cf67f97f3566da5b3b259316c\n",
            "  Stored in directory: /root/.cache/pip/wheels/57/e8/3f/120ccc1ff7541c108bc5d656e2a14c39da0d824653b62284c6\n",
            "Successfully built breadability pycountry\n",
            "Installing collected packages: pycountry, breadability, sumy\n",
            "Successfully installed breadability-0.1.20 pycountry-20.7.3 sumy-0.8.1\n"
          ],
          "name": "stdout"
        }
      ]
    },
    {
      "cell_type": "code",
      "metadata": {
        "id": "oPSQvLc_-gav"
      },
      "source": [
        "from sumy.parsers.plaintext import PlaintextParser\n",
        "from sumy.nlp.tokenizers import Tokenizer\n",
        "from sumy.summarizers.lex_rank import LexRankSummarizer"
      ],
      "execution_count": 14,
      "outputs": []
    },
    {
      "cell_type": "code",
      "metadata": {
        "colab": {
          "base_uri": "https://localhost:8080/"
        },
        "id": "xB7zmcSX_LtA",
        "outputId": "6b1669ae-e7ad-480b-f205-e891cedc0d12"
      },
      "source": [
        "import nltk\n",
        "nltk.download(\"punkt\")\n",
        "nltk.download('averaged_perceptron_tagger')"
      ],
      "execution_count": 34,
      "outputs": [
        {
          "output_type": "stream",
          "text": [
            "[nltk_data] Downloading package punkt to /root/nltk_data...\n",
            "[nltk_data]   Package punkt is already up-to-date!\n",
            "[nltk_data] Downloading package averaged_perceptron_tagger to\n",
            "[nltk_data]     /root/nltk_data...\n",
            "[nltk_data]   Unzipping taggers/averaged_perceptron_tagger.zip.\n"
          ],
          "name": "stdout"
        },
        {
          "output_type": "execute_result",
          "data": {
            "text/plain": [
              "True"
            ]
          },
          "metadata": {
            "tags": []
          },
          "execution_count": 34
        }
      ]
    },
    {
      "cell_type": "code",
      "metadata": {
        "id": "5skICeSm-2G1"
      },
      "source": [
        "parser = PlaintextParser.from_string(text, Tokenizer(\"english\"))"
      ],
      "execution_count": 18,
      "outputs": []
    },
    {
      "cell_type": "code",
      "metadata": {
        "id": "6oj78RFg_IS5"
      },
      "source": [
        "#using lexrank\n",
        "summarizer = LexRankSummarizer()\n",
        "#summarize the content\n",
        "get_summary = summarizer(parser.document,5)"
      ],
      "execution_count": 23,
      "outputs": []
    },
    {
      "cell_type": "code",
      "metadata": {
        "colab": {
          "base_uri": "https://localhost:8080/"
        },
        "id": "eTBNiA6dA-Nm",
        "outputId": "874616b6-f573-4c4e-85eb-bc892af1b511"
      },
      "source": [
        "for s in get_summary:\n",
        "  print(s)"
      ],
      "execution_count": 24,
      "outputs": [
        {
          "output_type": "stream",
          "text": [
            "In order to achieve the exposure to a talent, a resource needs exposure in a business or system.\n",
            "An organization or individual can use a bot to replace a repetitive task that a human would otherwise have to perform.\n",
            "In a bank, bots can be used with repository of information.\n",
            "So these information can be retrieved from the repository.\n",
            "j) Banks can store more informative and useful information that can be accessed at the right time from a bot.\n"
          ],
          "name": "stdout"
        }
      ]
    },
    {
      "cell_type": "markdown",
      "metadata": {
        "id": "07JsvWqVMq0G"
      },
      "source": [
        "# POS Tagging"
      ]
    },
    {
      "cell_type": "code",
      "metadata": {
        "id": "09Fo6dn4BNUv"
      },
      "source": [
        "from textblob import TextBlob\n",
        "import pandas as pd"
      ],
      "execution_count": 31,
      "outputs": []
    },
    {
      "cell_type": "code",
      "metadata": {
        "id": "VbX5mAgoMpqB"
      },
      "source": [
        "def pos_tagging(content):\n",
        "  blob = TextBlob(content)\n",
        "  tagged_content = blob.tags\n",
        "  tagged_df = pd.DataFrame(tagged_content, columns=['word', 'tags'])\n",
        "  return tagged_df"
      ],
      "execution_count": 32,
      "outputs": []
    },
    {
      "cell_type": "code",
      "metadata": {
        "id": "QSthTFfENe4f"
      },
      "source": [
        "pos_tagged_content = pos_tagging(text)"
      ],
      "execution_count": 35,
      "outputs": []
    },
    {
      "cell_type": "code",
      "metadata": {
        "colab": {
          "base_uri": "https://localhost:8080/",
          "height": 419
        },
        "id": "pPVnW8spNpEL",
        "outputId": "ba2b4c2c-9d8a-48fc-d547-3bc4a23a5697"
      },
      "source": [
        "pos_tagged_content"
      ],
      "execution_count": 36,
      "outputs": [
        {
          "output_type": "execute_result",
          "data": {
            "text/html": [
              "<div>\n",
              "<style scoped>\n",
              "    .dataframe tbody tr th:only-of-type {\n",
              "        vertical-align: middle;\n",
              "    }\n",
              "\n",
              "    .dataframe tbody tr th {\n",
              "        vertical-align: top;\n",
              "    }\n",
              "\n",
              "    .dataframe thead th {\n",
              "        text-align: right;\n",
              "    }\n",
              "</style>\n",
              "<table border=\"1\" class=\"dataframe\">\n",
              "  <thead>\n",
              "    <tr style=\"text-align: right;\">\n",
              "      <th></th>\n",
              "      <th>word</th>\n",
              "      <th>tags</th>\n",
              "    </tr>\n",
              "  </thead>\n",
              "  <tbody>\n",
              "    <tr>\n",
              "      <th>0</th>\n",
              "      <td>This</td>\n",
              "      <td>DT</td>\n",
              "    </tr>\n",
              "    <tr>\n",
              "      <th>1</th>\n",
              "      <td>is</td>\n",
              "      <td>VBZ</td>\n",
              "    </tr>\n",
              "    <tr>\n",
              "      <th>2</th>\n",
              "      <td>known</td>\n",
              "      <td>VBN</td>\n",
              "    </tr>\n",
              "    <tr>\n",
              "      <th>3</th>\n",
              "      <td>that</td>\n",
              "      <td>IN</td>\n",
              "    </tr>\n",
              "    <tr>\n",
              "      <th>4</th>\n",
              "      <td>unless</td>\n",
              "      <td>IN</td>\n",
              "    </tr>\n",
              "    <tr>\n",
              "      <th>...</th>\n",
              "      <td>...</td>\n",
              "      <td>...</td>\n",
              "    </tr>\n",
              "    <tr>\n",
              "      <th>751</th>\n",
              "      <td>knowledge</td>\n",
              "      <td>NN</td>\n",
              "    </tr>\n",
              "    <tr>\n",
              "      <th>752</th>\n",
              "      <td>base</td>\n",
              "      <td>NN</td>\n",
              "    </tr>\n",
              "    <tr>\n",
              "      <th>753</th>\n",
              "      <td>to</td>\n",
              "      <td>TO</td>\n",
              "    </tr>\n",
              "    <tr>\n",
              "      <th>754</th>\n",
              "      <td>its</td>\n",
              "      <td>PRP$</td>\n",
              "    </tr>\n",
              "    <tr>\n",
              "      <th>755</th>\n",
              "      <td>users</td>\n",
              "      <td>NNS</td>\n",
              "    </tr>\n",
              "  </tbody>\n",
              "</table>\n",
              "<p>756 rows × 2 columns</p>\n",
              "</div>"
            ],
            "text/plain": [
              "          word  tags\n",
              "0         This    DT\n",
              "1           is   VBZ\n",
              "2        known   VBN\n",
              "3         that    IN\n",
              "4       unless    IN\n",
              "..         ...   ...\n",
              "751  knowledge    NN\n",
              "752       base    NN\n",
              "753         to    TO\n",
              "754        its  PRP$\n",
              "755      users   NNS\n",
              "\n",
              "[756 rows x 2 columns]"
            ]
          },
          "metadata": {
            "tags": []
          },
          "execution_count": 36
        }
      ]
    },
    {
      "cell_type": "code",
      "metadata": {
        "id": "aDGigc3gN9uy"
      },
      "source": [
        "TAGS = {\n",
        "        'NN':'green',\n",
        "        \"NNS\":\"green\",\n",
        "        \"NNP\":\"green\",\n",
        "        \"NNPS\":\"green\",\n",
        "        \"VB\":\"blue\",\n",
        "        \"VBD\":\"blue\",\n",
        "        \"VBG\":\"blue\",\n",
        "        \"VBN\":\"blue\",\n",
        "        \"VBP\":\"blue\",\n",
        "        \"VBZ\":\"blue\",\n",
        "        \"JJ\":\"red\",\n",
        "        \"JJR\":\"red\",\n",
        "        \"JJS\":\"red\",\n",
        "        \"RB\":\"cyan\",\n",
        "        \"RBR\":\"cyan\",\n",
        "        \"RBS\":\"cyan\",\n",
        "        \"IN\":\"darkwhite\",\n",
        "        \"POS\":\"darkyellow\",\n",
        "        \"PRP$\":\"magenta\",\n",
        "        \"DET\":\"black\",\n",
        "        \"CC\":\"black\",\n",
        "        \"WDT\":\"black\",\n",
        "        \"WP\":\"black\",\n",
        "        \"WP$\":\"black\",\n",
        "        \"WRB\":\"black\",\n",
        "        \"EX\":\"yellow\",\n",
        "        \"FW\":\"yellow\",\n",
        "        \"LS\":\"yellow\",\n",
        "        \"MD\":\"yellow\",\n",
        "        \"PDT\":\"yellow\",\n",
        "        \"RP\":\"yellow\",\n",
        "        \"SYM\":\"yellow\",\n",
        "        \"TO\":\"yellow\",\n",
        "        \"NONE\":\"off\"\n",
        "}"
      ],
      "execution_count": 41,
      "outputs": []
    },
    {
      "cell_type": "code",
      "metadata": {
        "id": "tlIq-7w0TujQ"
      },
      "source": [
        "def plot_pos_tag(tagged_docx):\n",
        "  colored_text = []\n",
        "  for i in tagged_docx:\n",
        "    if i[1] in TAGS.keys():\n",
        "      word = i[0]\n",
        "      color_for_tag = TAGS.get(i[1])\n",
        "      result = '<span style = \"color:{}\">{}</span>'.format(color_for_tag, word)\n",
        "      colored_text.append(result)\n",
        "\n",
        "  result = ''.join(colored_text)\n",
        "  print(result)\n",
        "  return result"
      ],
      "execution_count": 49,
      "outputs": []
    },
    {
      "cell_type": "code",
      "metadata": {
        "id": "WArnzwV4abOE"
      },
      "source": [
        "my_string = \"\"\"Wealth Lending Team own's a application name called Speed, which is used for the collateral lending management. This application is there in the Bank for almost 15 years by having the traditional technology struts framework with JSP and front end and Oracle as backend. Now as bank is moving towards innovation and technology upgrade all the new screen development are done with Angular and Spring boot as microservice. Most of the web pages in this application are form filling by the RM with maker checker flow. When each new requirement comes to the project team it takes around 2-3 weeks for a medium level page design with the api services. I suggested my LM can start a new design/framework where all these screen fields can be dynamically created with some configuration level architecture with Angular/ReactJS and Spring boot microservice. This will reduce the tremendous development effort which saves a hudge cost and time. After hearing this my LM is now very much interested to get a design proposal from me, but as I am very much busy in the project deliverables I could not concentrate much on this . I am thinking to propose a DB level configurable design where all the screen design and business flow are added to the DB table. And when ever a new page design requirement comes in the developer just needs to add the necessary configurable data into the DB table so that the code will dynamically creates the form and its fields.\"\"\""
      ],
      "execution_count": 50,
      "outputs": []
    },
    {
      "cell_type": "code",
      "metadata": {
        "colab": {
          "base_uri": "https://localhost:8080/",
          "height": 120
        },
        "id": "IDauV2ksbRjw",
        "outputId": "734f002e-b479-48b5-acb7-aa5354ee75da"
      },
      "source": [
        "my_string"
      ],
      "execution_count": 51,
      "outputs": [
        {
          "output_type": "execute_result",
          "data": {
            "application/vnd.google.colaboratory.intrinsic+json": {
              "type": "string"
            },
            "text/plain": [
              "\"Wealth Lending Team own's a application name called Speed, which is used for the collateral lending management. This application is there in the Bank for almost 15 years by having the traditional technology struts framework with JSP and front end and Oracle as backend. Now as bank is moving towards innovation and technology upgrade all the new screen development are done with Angular and Spring boot as microservice. Most of the web pages in this application are form filling by the RM with maker checker flow. When each new requirement comes to the project team it takes around 2-3 weeks for a medium level page design with the api services. I suggested my LM can start a new design/framework where all these screen fields can be dynamically created with some configuration level architecture with Angular/ReactJS and Spring boot microservice. This will reduce the tremendous development effort which saves a hudge cost and time. After hearing this my LM is now very much interested to get a design proposal from me, but as I am very much busy in the project deliverables I could not concentrate much on this . I am thinking to propose a DB level configurable design where all the screen design and business flow are added to the DB table. And when ever a new page design requirement comes in the developer just needs to add the necessary configurable data into the DB table so that the code will dynamically creates the form and its fields.\""
            ]
          },
          "metadata": {
            "tags": []
          },
          "execution_count": 51
        }
      ]
    },
    {
      "cell_type": "code",
      "metadata": {
        "id": "xYqxGKCpbS89"
      },
      "source": [
        "tagged_docx = TextBlob(my_string).tags"
      ],
      "execution_count": 52,
      "outputs": []
    },
    {
      "cell_type": "code",
      "metadata": {
        "colab": {
          "base_uri": "https://localhost:8080/"
        },
        "id": "DRhp2ojebfvF",
        "outputId": "5380dad1-3f95-4a2a-9ad9-98ae4c5b2349"
      },
      "source": [
        "tagged_docx"
      ],
      "execution_count": 53,
      "outputs": [
        {
          "output_type": "execute_result",
          "data": {
            "text/plain": [
              "[('Wealth', 'NNP'),\n",
              " ('Lending', 'NNP'),\n",
              " ('Team', 'NNP'),\n",
              " ('own', 'PRP'),\n",
              " (\"'s\", 'VBZ'),\n",
              " ('a', 'DT'),\n",
              " ('application', 'NN'),\n",
              " ('name', 'NN'),\n",
              " ('called', 'VBD'),\n",
              " ('Speed', 'NNP'),\n",
              " ('which', 'WDT'),\n",
              " ('is', 'VBZ'),\n",
              " ('used', 'VBN'),\n",
              " ('for', 'IN'),\n",
              " ('the', 'DT'),\n",
              " ('collateral', 'NN'),\n",
              " ('lending', 'NN'),\n",
              " ('management', 'NN'),\n",
              " ('This', 'DT'),\n",
              " ('application', 'NN'),\n",
              " ('is', 'VBZ'),\n",
              " ('there', 'RB'),\n",
              " ('in', 'IN'),\n",
              " ('the', 'DT'),\n",
              " ('Bank', 'NNP'),\n",
              " ('for', 'IN'),\n",
              " ('almost', 'RB'),\n",
              " ('15', 'CD'),\n",
              " ('years', 'NNS'),\n",
              " ('by', 'IN'),\n",
              " ('having', 'VBG'),\n",
              " ('the', 'DT'),\n",
              " ('traditional', 'JJ'),\n",
              " ('technology', 'NN'),\n",
              " ('struts', 'NNS'),\n",
              " ('framework', 'VBP'),\n",
              " ('with', 'IN'),\n",
              " ('JSP', 'NNP'),\n",
              " ('and', 'CC'),\n",
              " ('front', 'JJ'),\n",
              " ('end', 'NN'),\n",
              " ('and', 'CC'),\n",
              " ('Oracle', 'NNP'),\n",
              " ('as', 'IN'),\n",
              " ('backend', 'NN'),\n",
              " ('Now', 'RB'),\n",
              " ('as', 'IN'),\n",
              " ('bank', 'NN'),\n",
              " ('is', 'VBZ'),\n",
              " ('moving', 'VBG'),\n",
              " ('towards', 'NNS'),\n",
              " ('innovation', 'NN'),\n",
              " ('and', 'CC'),\n",
              " ('technology', 'NN'),\n",
              " ('upgrade', 'VBP'),\n",
              " ('all', 'PDT'),\n",
              " ('the', 'DT'),\n",
              " ('new', 'JJ'),\n",
              " ('screen', 'NN'),\n",
              " ('development', 'NN'),\n",
              " ('are', 'VBP'),\n",
              " ('done', 'VBN'),\n",
              " ('with', 'IN'),\n",
              " ('Angular', 'NNP'),\n",
              " ('and', 'CC'),\n",
              " ('Spring', 'NNP'),\n",
              " ('boot', 'NN'),\n",
              " ('as', 'IN'),\n",
              " ('microservice', 'NN'),\n",
              " ('Most', 'JJS'),\n",
              " ('of', 'IN'),\n",
              " ('the', 'DT'),\n",
              " ('web', 'NN'),\n",
              " ('pages', 'NNS'),\n",
              " ('in', 'IN'),\n",
              " ('this', 'DT'),\n",
              " ('application', 'NN'),\n",
              " ('are', 'VBP'),\n",
              " ('form', 'VBN'),\n",
              " ('filling', 'NN'),\n",
              " ('by', 'IN'),\n",
              " ('the', 'DT'),\n",
              " ('RM', 'NNP'),\n",
              " ('with', 'IN'),\n",
              " ('maker', 'NN'),\n",
              " ('checker', 'NN'),\n",
              " ('flow', 'NN'),\n",
              " ('When', 'WRB'),\n",
              " ('each', 'DT'),\n",
              " ('new', 'JJ'),\n",
              " ('requirement', 'NN'),\n",
              " ('comes', 'VBZ'),\n",
              " ('to', 'TO'),\n",
              " ('the', 'DT'),\n",
              " ('project', 'NN'),\n",
              " ('team', 'NN'),\n",
              " ('it', 'PRP'),\n",
              " ('takes', 'VBZ'),\n",
              " ('around', 'IN'),\n",
              " ('2-3', 'JJ'),\n",
              " ('weeks', 'NNS'),\n",
              " ('for', 'IN'),\n",
              " ('a', 'DT'),\n",
              " ('medium', 'NN'),\n",
              " ('level', 'NN'),\n",
              " ('page', 'NN'),\n",
              " ('design', 'NN'),\n",
              " ('with', 'IN'),\n",
              " ('the', 'DT'),\n",
              " ('api', 'NN'),\n",
              " ('services', 'NNS'),\n",
              " ('I', 'PRP'),\n",
              " ('suggested', 'VBD'),\n",
              " ('my', 'PRP$'),\n",
              " ('LM', 'NNP'),\n",
              " ('can', 'MD'),\n",
              " ('start', 'VB'),\n",
              " ('a', 'DT'),\n",
              " ('new', 'JJ'),\n",
              " ('design/framework', 'NN'),\n",
              " ('where', 'WRB'),\n",
              " ('all', 'PDT'),\n",
              " ('these', 'DT'),\n",
              " ('screen', 'JJ'),\n",
              " ('fields', 'NNS'),\n",
              " ('can', 'MD'),\n",
              " ('be', 'VB'),\n",
              " ('dynamically', 'RB'),\n",
              " ('created', 'VBN'),\n",
              " ('with', 'IN'),\n",
              " ('some', 'DT'),\n",
              " ('configuration', 'NN'),\n",
              " ('level', 'NN'),\n",
              " ('architecture', 'NN'),\n",
              " ('with', 'IN'),\n",
              " ('Angular/ReactJS', 'NNP'),\n",
              " ('and', 'CC'),\n",
              " ('Spring', 'NNP'),\n",
              " ('boot', 'NN'),\n",
              " ('microservice', 'NN'),\n",
              " ('This', 'DT'),\n",
              " ('will', 'MD'),\n",
              " ('reduce', 'VB'),\n",
              " ('the', 'DT'),\n",
              " ('tremendous', 'JJ'),\n",
              " ('development', 'NN'),\n",
              " ('effort', 'NN'),\n",
              " ('which', 'WDT'),\n",
              " ('saves', 'VBZ'),\n",
              " ('a', 'DT'),\n",
              " ('hudge', 'NN'),\n",
              " ('cost', 'NN'),\n",
              " ('and', 'CC'),\n",
              " ('time', 'NN'),\n",
              " ('After', 'IN'),\n",
              " ('hearing', 'VBG'),\n",
              " ('this', 'DT'),\n",
              " ('my', 'PRP$'),\n",
              " ('LM', 'NNP'),\n",
              " ('is', 'VBZ'),\n",
              " ('now', 'RB'),\n",
              " ('very', 'RB'),\n",
              " ('much', 'RB'),\n",
              " ('interested', 'JJ'),\n",
              " ('to', 'TO'),\n",
              " ('get', 'VB'),\n",
              " ('a', 'DT'),\n",
              " ('design', 'NN'),\n",
              " ('proposal', 'NN'),\n",
              " ('from', 'IN'),\n",
              " ('me', 'PRP'),\n",
              " ('but', 'CC'),\n",
              " ('as', 'IN'),\n",
              " ('I', 'PRP'),\n",
              " ('am', 'VBP'),\n",
              " ('very', 'RB'),\n",
              " ('much', 'JJ'),\n",
              " ('busy', 'NN'),\n",
              " ('in', 'IN'),\n",
              " ('the', 'DT'),\n",
              " ('project', 'NN'),\n",
              " ('deliverables', 'VBZ'),\n",
              " ('I', 'PRP'),\n",
              " ('could', 'MD'),\n",
              " ('not', 'RB'),\n",
              " ('concentrate', 'VB'),\n",
              " ('much', 'RB'),\n",
              " ('on', 'IN'),\n",
              " ('this', 'DT'),\n",
              " ('I', 'PRP'),\n",
              " ('am', 'VBP'),\n",
              " ('thinking', 'VBG'),\n",
              " ('to', 'TO'),\n",
              " ('propose', 'VB'),\n",
              " ('a', 'DT'),\n",
              " ('DB', 'NNP'),\n",
              " ('level', 'NN'),\n",
              " ('configurable', 'JJ'),\n",
              " ('design', 'NN'),\n",
              " ('where', 'WRB'),\n",
              " ('all', 'PDT'),\n",
              " ('the', 'DT'),\n",
              " ('screen', 'NN'),\n",
              " ('design', 'NN'),\n",
              " ('and', 'CC'),\n",
              " ('business', 'NN'),\n",
              " ('flow', 'NN'),\n",
              " ('are', 'VBP'),\n",
              " ('added', 'VBN'),\n",
              " ('to', 'TO'),\n",
              " ('the', 'DT'),\n",
              " ('DB', 'NNP'),\n",
              " ('table', 'NN'),\n",
              " ('And', 'CC'),\n",
              " ('when', 'WRB'),\n",
              " ('ever', 'RB'),\n",
              " ('a', 'DT'),\n",
              " ('new', 'JJ'),\n",
              " ('page', 'NN'),\n",
              " ('design', 'NN'),\n",
              " ('requirement', 'NN'),\n",
              " ('comes', 'VBZ'),\n",
              " ('in', 'IN'),\n",
              " ('the', 'DT'),\n",
              " ('developer', 'NN'),\n",
              " ('just', 'RB'),\n",
              " ('needs', 'VBZ'),\n",
              " ('to', 'TO'),\n",
              " ('add', 'VB'),\n",
              " ('the', 'DT'),\n",
              " ('necessary', 'JJ'),\n",
              " ('configurable', 'JJ'),\n",
              " ('data', 'NNS'),\n",
              " ('into', 'IN'),\n",
              " ('the', 'DT'),\n",
              " ('DB', 'NNP'),\n",
              " ('table', 'NN'),\n",
              " ('so', 'RB'),\n",
              " ('that', 'IN'),\n",
              " ('the', 'DT'),\n",
              " ('code', 'NN'),\n",
              " ('will', 'MD'),\n",
              " ('dynamically', 'RB'),\n",
              " ('creates', 'VBZ'),\n",
              " ('the', 'DT'),\n",
              " ('form', 'NN'),\n",
              " ('and', 'CC'),\n",
              " ('its', 'PRP$'),\n",
              " ('fields', 'NNS')]"
            ]
          },
          "metadata": {
            "tags": []
          },
          "execution_count": 53
        }
      ]
    },
    {
      "cell_type": "code",
      "metadata": {
        "colab": {
          "base_uri": "https://localhost:8080/",
          "height": 905
        },
        "id": "PXK7KAG_bg1g",
        "outputId": "d5d59842-babf-4bf0-aef3-21f4fac0cb90"
      },
      "source": [
        "plot_pos_tag(tagged_docx)"
      ],
      "execution_count": 54,
      "outputs": [
        {
          "output_type": "stream",
          "text": [
            "<span style = \"color:green\">Wealth</span><span style = \"color:green\">Lending</span><span style = \"color:green\">Team</span><span style = \"color:blue\">'s</span><span style = \"color:green\">application</span><span style = \"color:green\">name</span><span style = \"color:blue\">called</span><span style = \"color:green\">Speed</span><span style = \"color:black\">which</span><span style = \"color:blue\">is</span><span style = \"color:blue\">used</span><span style = \"color:darkwhite\">for</span><span style = \"color:green\">collateral</span><span style = \"color:green\">lending</span><span style = \"color:green\">management</span><span style = \"color:green\">application</span><span style = \"color:blue\">is</span><span style = \"color:cyan\">there</span><span style = \"color:darkwhite\">in</span><span style = \"color:green\">Bank</span><span style = \"color:darkwhite\">for</span><span style = \"color:cyan\">almost</span><span style = \"color:green\">years</span><span style = \"color:darkwhite\">by</span><span style = \"color:blue\">having</span><span style = \"color:red\">traditional</span><span style = \"color:green\">technology</span><span style = \"color:green\">struts</span><span style = \"color:blue\">framework</span><span style = \"color:darkwhite\">with</span><span style = \"color:green\">JSP</span><span style = \"color:black\">and</span><span style = \"color:red\">front</span><span style = \"color:green\">end</span><span style = \"color:black\">and</span><span style = \"color:green\">Oracle</span><span style = \"color:darkwhite\">as</span><span style = \"color:green\">backend</span><span style = \"color:cyan\">Now</span><span style = \"color:darkwhite\">as</span><span style = \"color:green\">bank</span><span style = \"color:blue\">is</span><span style = \"color:blue\">moving</span><span style = \"color:green\">towards</span><span style = \"color:green\">innovation</span><span style = \"color:black\">and</span><span style = \"color:green\">technology</span><span style = \"color:blue\">upgrade</span><span style = \"color:yellow\">all</span><span style = \"color:red\">new</span><span style = \"color:green\">screen</span><span style = \"color:green\">development</span><span style = \"color:blue\">are</span><span style = \"color:blue\">done</span><span style = \"color:darkwhite\">with</span><span style = \"color:green\">Angular</span><span style = \"color:black\">and</span><span style = \"color:green\">Spring</span><span style = \"color:green\">boot</span><span style = \"color:darkwhite\">as</span><span style = \"color:green\">microservice</span><span style = \"color:red\">Most</span><span style = \"color:darkwhite\">of</span><span style = \"color:green\">web</span><span style = \"color:green\">pages</span><span style = \"color:darkwhite\">in</span><span style = \"color:green\">application</span><span style = \"color:blue\">are</span><span style = \"color:blue\">form</span><span style = \"color:green\">filling</span><span style = \"color:darkwhite\">by</span><span style = \"color:green\">RM</span><span style = \"color:darkwhite\">with</span><span style = \"color:green\">maker</span><span style = \"color:green\">checker</span><span style = \"color:green\">flow</span><span style = \"color:black\">When</span><span style = \"color:red\">new</span><span style = \"color:green\">requirement</span><span style = \"color:blue\">comes</span><span style = \"color:yellow\">to</span><span style = \"color:green\">project</span><span style = \"color:green\">team</span><span style = \"color:blue\">takes</span><span style = \"color:darkwhite\">around</span><span style = \"color:red\">2-3</span><span style = \"color:green\">weeks</span><span style = \"color:darkwhite\">for</span><span style = \"color:green\">medium</span><span style = \"color:green\">level</span><span style = \"color:green\">page</span><span style = \"color:green\">design</span><span style = \"color:darkwhite\">with</span><span style = \"color:green\">api</span><span style = \"color:green\">services</span><span style = \"color:blue\">suggested</span><span style = \"color:magenta\">my</span><span style = \"color:green\">LM</span><span style = \"color:yellow\">can</span><span style = \"color:blue\">start</span><span style = \"color:red\">new</span><span style = \"color:green\">design/framework</span><span style = \"color:black\">where</span><span style = \"color:yellow\">all</span><span style = \"color:red\">screen</span><span style = \"color:green\">fields</span><span style = \"color:yellow\">can</span><span style = \"color:blue\">be</span><span style = \"color:cyan\">dynamically</span><span style = \"color:blue\">created</span><span style = \"color:darkwhite\">with</span><span style = \"color:green\">configuration</span><span style = \"color:green\">level</span><span style = \"color:green\">architecture</span><span style = \"color:darkwhite\">with</span><span style = \"color:green\">Angular/ReactJS</span><span style = \"color:black\">and</span><span style = \"color:green\">Spring</span><span style = \"color:green\">boot</span><span style = \"color:green\">microservice</span><span style = \"color:yellow\">will</span><span style = \"color:blue\">reduce</span><span style = \"color:red\">tremendous</span><span style = \"color:green\">development</span><span style = \"color:green\">effort</span><span style = \"color:black\">which</span><span style = \"color:blue\">saves</span><span style = \"color:green\">hudge</span><span style = \"color:green\">cost</span><span style = \"color:black\">and</span><span style = \"color:green\">time</span><span style = \"color:darkwhite\">After</span><span style = \"color:blue\">hearing</span><span style = \"color:magenta\">my</span><span style = \"color:green\">LM</span><span style = \"color:blue\">is</span><span style = \"color:cyan\">now</span><span style = \"color:cyan\">very</span><span style = \"color:cyan\">much</span><span style = \"color:red\">interested</span><span style = \"color:yellow\">to</span><span style = \"color:blue\">get</span><span style = \"color:green\">design</span><span style = \"color:green\">proposal</span><span style = \"color:darkwhite\">from</span><span style = \"color:black\">but</span><span style = \"color:darkwhite\">as</span><span style = \"color:blue\">am</span><span style = \"color:cyan\">very</span><span style = \"color:red\">much</span><span style = \"color:green\">busy</span><span style = \"color:darkwhite\">in</span><span style = \"color:green\">project</span><span style = \"color:blue\">deliverables</span><span style = \"color:yellow\">could</span><span style = \"color:cyan\">not</span><span style = \"color:blue\">concentrate</span><span style = \"color:cyan\">much</span><span style = \"color:darkwhite\">on</span><span style = \"color:blue\">am</span><span style = \"color:blue\">thinking</span><span style = \"color:yellow\">to</span><span style = \"color:blue\">propose</span><span style = \"color:green\">DB</span><span style = \"color:green\">level</span><span style = \"color:red\">configurable</span><span style = \"color:green\">design</span><span style = \"color:black\">where</span><span style = \"color:yellow\">all</span><span style = \"color:green\">screen</span><span style = \"color:green\">design</span><span style = \"color:black\">and</span><span style = \"color:green\">business</span><span style = \"color:green\">flow</span><span style = \"color:blue\">are</span><span style = \"color:blue\">added</span><span style = \"color:yellow\">to</span><span style = \"color:green\">DB</span><span style = \"color:green\">table</span><span style = \"color:black\">And</span><span style = \"color:black\">when</span><span style = \"color:cyan\">ever</span><span style = \"color:red\">new</span><span style = \"color:green\">page</span><span style = \"color:green\">design</span><span style = \"color:green\">requirement</span><span style = \"color:blue\">comes</span><span style = \"color:darkwhite\">in</span><span style = \"color:green\">developer</span><span style = \"color:cyan\">just</span><span style = \"color:blue\">needs</span><span style = \"color:yellow\">to</span><span style = \"color:blue\">add</span><span style = \"color:red\">necessary</span><span style = \"color:red\">configurable</span><span style = \"color:green\">data</span><span style = \"color:darkwhite\">into</span><span style = \"color:green\">DB</span><span style = \"color:green\">table</span><span style = \"color:cyan\">so</span><span style = \"color:darkwhite\">that</span><span style = \"color:green\">code</span><span style = \"color:yellow\">will</span><span style = \"color:cyan\">dynamically</span><span style = \"color:blue\">creates</span><span style = \"color:green\">form</span><span style = \"color:black\">and</span><span style = \"color:magenta\">its</span><span style = \"color:green\">fields</span>\n"
          ],
          "name": "stdout"
        },
        {
          "output_type": "execute_result",
          "data": {
            "application/vnd.google.colaboratory.intrinsic+json": {
              "type": "string"
            },
            "text/plain": [
              "'<span style = \"color:green\">Wealth</span><span style = \"color:green\">Lending</span><span style = \"color:green\">Team</span><span style = \"color:blue\">\\'s</span><span style = \"color:green\">application</span><span style = \"color:green\">name</span><span style = \"color:blue\">called</span><span style = \"color:green\">Speed</span><span style = \"color:black\">which</span><span style = \"color:blue\">is</span><span style = \"color:blue\">used</span><span style = \"color:darkwhite\">for</span><span style = \"color:green\">collateral</span><span style = \"color:green\">lending</span><span style = \"color:green\">management</span><span style = \"color:green\">application</span><span style = \"color:blue\">is</span><span style = \"color:cyan\">there</span><span style = \"color:darkwhite\">in</span><span style = \"color:green\">Bank</span><span style = \"color:darkwhite\">for</span><span style = \"color:cyan\">almost</span><span style = \"color:green\">years</span><span style = \"color:darkwhite\">by</span><span style = \"color:blue\">having</span><span style = \"color:red\">traditional</span><span style = \"color:green\">technology</span><span style = \"color:green\">struts</span><span style = \"color:blue\">framework</span><span style = \"color:darkwhite\">with</span><span style = \"color:green\">JSP</span><span style = \"color:black\">and</span><span style = \"color:red\">front</span><span style = \"color:green\">end</span><span style = \"color:black\">and</span><span style = \"color:green\">Oracle</span><span style = \"color:darkwhite\">as</span><span style = \"color:green\">backend</span><span style = \"color:cyan\">Now</span><span style = \"color:darkwhite\">as</span><span style = \"color:green\">bank</span><span style = \"color:blue\">is</span><span style = \"color:blue\">moving</span><span style = \"color:green\">towards</span><span style = \"color:green\">innovation</span><span style = \"color:black\">and</span><span style = \"color:green\">technology</span><span style = \"color:blue\">upgrade</span><span style = \"color:yellow\">all</span><span style = \"color:red\">new</span><span style = \"color:green\">screen</span><span style = \"color:green\">development</span><span style = \"color:blue\">are</span><span style = \"color:blue\">done</span><span style = \"color:darkwhite\">with</span><span style = \"color:green\">Angular</span><span style = \"color:black\">and</span><span style = \"color:green\">Spring</span><span style = \"color:green\">boot</span><span style = \"color:darkwhite\">as</span><span style = \"color:green\">microservice</span><span style = \"color:red\">Most</span><span style = \"color:darkwhite\">of</span><span style = \"color:green\">web</span><span style = \"color:green\">pages</span><span style = \"color:darkwhite\">in</span><span style = \"color:green\">application</span><span style = \"color:blue\">are</span><span style = \"color:blue\">form</span><span style = \"color:green\">filling</span><span style = \"color:darkwhite\">by</span><span style = \"color:green\">RM</span><span style = \"color:darkwhite\">with</span><span style = \"color:green\">maker</span><span style = \"color:green\">checker</span><span style = \"color:green\">flow</span><span style = \"color:black\">When</span><span style = \"color:red\">new</span><span style = \"color:green\">requirement</span><span style = \"color:blue\">comes</span><span style = \"color:yellow\">to</span><span style = \"color:green\">project</span><span style = \"color:green\">team</span><span style = \"color:blue\">takes</span><span style = \"color:darkwhite\">around</span><span style = \"color:red\">2-3</span><span style = \"color:green\">weeks</span><span style = \"color:darkwhite\">for</span><span style = \"color:green\">medium</span><span style = \"color:green\">level</span><span style = \"color:green\">page</span><span style = \"color:green\">design</span><span style = \"color:darkwhite\">with</span><span style = \"color:green\">api</span><span style = \"color:green\">services</span><span style = \"color:blue\">suggested</span><span style = \"color:magenta\">my</span><span style = \"color:green\">LM</span><span style = \"color:yellow\">can</span><span style = \"color:blue\">start</span><span style = \"color:red\">new</span><span style = \"color:green\">design/framework</span><span style = \"color:black\">where</span><span style = \"color:yellow\">all</span><span style = \"color:red\">screen</span><span style = \"color:green\">fields</span><span style = \"color:yellow\">can</span><span style = \"color:blue\">be</span><span style = \"color:cyan\">dynamically</span><span style = \"color:blue\">created</span><span style = \"color:darkwhite\">with</span><span style = \"color:green\">configuration</span><span style = \"color:green\">level</span><span style = \"color:green\">architecture</span><span style = \"color:darkwhite\">with</span><span style = \"color:green\">Angular/ReactJS</span><span style = \"color:black\">and</span><span style = \"color:green\">Spring</span><span style = \"color:green\">boot</span><span style = \"color:green\">microservice</span><span style = \"color:yellow\">will</span><span style = \"color:blue\">reduce</span><span style = \"color:red\">tremendous</span><span style = \"color:green\">development</span><span style = \"color:green\">effort</span><span style = \"color:black\">which</span><span style = \"color:blue\">saves</span><span style = \"color:green\">hudge</span><span style = \"color:green\">cost</span><span style = \"color:black\">and</span><span style = \"color:green\">time</span><span style = \"color:darkwhite\">After</span><span style = \"color:blue\">hearing</span><span style = \"color:magenta\">my</span><span style = \"color:green\">LM</span><span style = \"color:blue\">is</span><span style = \"color:cyan\">now</span><span style = \"color:cyan\">very</span><span style = \"color:cyan\">much</span><span style = \"color:red\">interested</span><span style = \"color:yellow\">to</span><span style = \"color:blue\">get</span><span style = \"color:green\">design</span><span style = \"color:green\">proposal</span><span style = \"color:darkwhite\">from</span><span style = \"color:black\">but</span><span style = \"color:darkwhite\">as</span><span style = \"color:blue\">am</span><span style = \"color:cyan\">very</span><span style = \"color:red\">much</span><span style = \"color:green\">busy</span><span style = \"color:darkwhite\">in</span><span style = \"color:green\">project</span><span style = \"color:blue\">deliverables</span><span style = \"color:yellow\">could</span><span style = \"color:cyan\">not</span><span style = \"color:blue\">concentrate</span><span style = \"color:cyan\">much</span><span style = \"color:darkwhite\">on</span><span style = \"color:blue\">am</span><span style = \"color:blue\">thinking</span><span style = \"color:yellow\">to</span><span style = \"color:blue\">propose</span><span style = \"color:green\">DB</span><span style = \"color:green\">level</span><span style = \"color:red\">configurable</span><span style = \"color:green\">design</span><span style = \"color:black\">where</span><span style = \"color:yellow\">all</span><span style = \"color:green\">screen</span><span style = \"color:green\">design</span><span style = \"color:black\">and</span><span style = \"color:green\">business</span><span style = \"color:green\">flow</span><span style = \"color:blue\">are</span><span style = \"color:blue\">added</span><span style = \"color:yellow\">to</span><span style = \"color:green\">DB</span><span style = \"color:green\">table</span><span style = \"color:black\">And</span><span style = \"color:black\">when</span><span style = \"color:cyan\">ever</span><span style = \"color:red\">new</span><span style = \"color:green\">page</span><span style = \"color:green\">design</span><span style = \"color:green\">requirement</span><span style = \"color:blue\">comes</span><span style = \"color:darkwhite\">in</span><span style = \"color:green\">developer</span><span style = \"color:cyan\">just</span><span style = \"color:blue\">needs</span><span style = \"color:yellow\">to</span><span style = \"color:blue\">add</span><span style = \"color:red\">necessary</span><span style = \"color:red\">configurable</span><span style = \"color:green\">data</span><span style = \"color:darkwhite\">into</span><span style = \"color:green\">DB</span><span style = \"color:green\">table</span><span style = \"color:cyan\">so</span><span style = \"color:darkwhite\">that</span><span style = \"color:green\">code</span><span style = \"color:yellow\">will</span><span style = \"color:cyan\">dynamically</span><span style = \"color:blue\">creates</span><span style = \"color:green\">form</span><span style = \"color:black\">and</span><span style = \"color:magenta\">its</span><span style = \"color:green\">fields</span>'"
            ]
          },
          "metadata": {
            "tags": []
          },
          "execution_count": 54
        }
      ]
    },
    {
      "cell_type": "code",
      "metadata": {
        "id": "blbGnwfdckiN"
      },
      "source": [
        ""
      ],
      "execution_count": null,
      "outputs": []
    }
  ]
}